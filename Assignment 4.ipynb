{
 "cells": [
  {
   "cell_type": "markdown",
   "id": "476034b8-237e-4741-a262-372da51c45b2",
   "metadata": {},
   "source": [
    "## Question#01\n",
    "Q1. my_tuple = ( (1, 2, 3), [4, 5, 6], (apple, banana, cherry), [7, 8, 9] )\n",
    "• Print all elements from my_tuple on a new line (using for loop)\n",
    "• Create a new tuple by concatenating the first and last elements of my_tuple"
   ]
  },
  {
   "cell_type": "code",
   "execution_count": 1,
   "id": "8791df0f-0f87-4dd8-99a5-85b6fd3f0429",
   "metadata": {},
   "outputs": [
    {
     "name": "stdout",
     "output_type": "stream",
     "text": [
      "(1, 2, 3)\n",
      "[4, 5, 6]\n",
      "('apple', 'banana', 'cherry')\n",
      "[7, 8, 9]\n",
      "(1, 2, 3, 7, 8, 9)\n"
     ]
    }
   ],
   "source": [
    "my_tuple = ( (1, 2, 3), [4, 5, 6], (\"apple\", \"banana\", \"cherry\"), [7, 8, 9] )\n",
    "for i in my_tuple:\n",
    "    print (i)\n",
    "new_tuple = my_tuple[0] + tuple(my_tuple[-1])\n",
    "print(new_tuple)"
   ]
  },
  {
   "cell_type": "markdown",
   "id": "eebc99a8-5d9c-44c5-86f9-bfd852f9af7b",
   "metadata": {},
   "source": [
    "## Question#02\n",
    "Q2. inventory = { The Great Gatsby: {price: 10.99, quantity: 5}, Rich dad poor dad: {price:\n",
    "8.99, quantity: 8}, Harry Potter: {price: 12.50, quantity: 2}, }\n",
    "• Add a new book in inventory using method and get all book titles using method\n",
    "• Remove a book if it's out of stock"
   ]
  },
  {
   "cell_type": "code",
   "execution_count": 2,
   "id": "c1ee11b8-6c7a-440e-a8ab-6dfab17600eb",
   "metadata": {},
   "outputs": [
    {
     "name": "stdout",
     "output_type": "stream",
     "text": [
      "dict_keys(['The Great Gatsby', 'Rich Dad Poor Dad', 'Harry Potter', 'The kite runner'])\n"
     ]
    }
   ],
   "source": [
    "inventory = {\n",
    "    \"The Great Gatsby\": {\"price\": 10.99, \"quantity\": 5},\n",
    "    \"Rich Dad Poor Dad\": {\"price\": 8.99, \"quantity\": 8},\n",
    "    \"Harry Potter\": {\"price\": 12.50, \"quantity\": 2},\n",
    "}\n",
    "inventory[\"The kite runner\"]= {\"price\": 14.999, \"quantity\": 4}\n",
    "print(inventory.keys())\n",
    "\n",
    "out_of_stock_books = [title for title, details in inventory.items() if details[\"quantity\"] == 0]\n",
    "for book in out_of_stock_books:\n",
    "    del inventory[book]\n",
    "    print(book ,\"out of stock\")"
   ]
  },
  {
   "cell_type": "markdown",
   "id": "654645d5-0ba8-4d43-96d1-57886f05e35b",
   "metadata": {},
   "source": [
    "## Question#3\n",
    "Q3. An ecommerce store stores information about its products in a nested dictionary. The outer\n",
    "dictionary uses product IDs as keys, and the inner dictionary stores product details like name,\n",
    "category, price, and stock quantity.\n",
    "products = { 101: {name: Laptop, category: Electronics, price: 1200, stock: 50}, 102:\n",
    "{\"name\": \"Shirt\", \"category\": \"Apparel\", \"price\": 25, \"stock\": 200}, 103: {\"name\": \"Coffee Maker\",\n",
    "\"category\": \"Home Appliances\", \"price\": 80, \"stock\": 30} }\n",
    "• Increase the stock of the \"Shirt\" product (add 50 more units)\n",
    "• Add a new product (e.g., \"Smartphone\")"
   ]
  },
  {
   "cell_type": "code",
   "execution_count": 3,
   "id": "0746b6b0-8af0-4b9f-b2f9-572c4f4c2beb",
   "metadata": {},
   "outputs": [
    {
     "name": "stdout",
     "output_type": "stream",
     "text": [
      "{101: {'name': 'Laptop', 'category': 'Electronics', 'price': 1200, 'stock': 50}, 102: {'name': 'Shirt', 'category': 'Apparel', 'price': 25, 'stock': 200}, 103: {'name': 'Coffee Maker', 'category': 'Home Appliances', 'price': 80, 'stock': 30}, '102': {'name': 'Shirt', 'category': 'Apparel', 'price': 25, 'stock': 250}, '104': {'name': 'Smartphone', 'category': 'Electronics', 'price': 27000, 'stock': 12}}\n"
     ]
    }
   ],
   "source": [
    "products={\n",
    "    101:{\"name\":\"Laptop\", \"category\":\"Electronics\", \"price\":1200, \"stock\":50},\n",
    "    102:{\"name\": \"Shirt\", \"category\": \"Apparel\", \"price\": 25, \"stock\": 200},\n",
    "    103:{\"name\": \"Coffee Maker\", \"category\": \"Home Appliances\", \"price\": 80, \"stock\": 30} \n",
    "}\n",
    "products[\"102\"]={\"name\": \"Shirt\", \"category\": \"Apparel\", \"price\": 25,\"stock\":250}\n",
    "products[\"104\"]={\"name\":\"Smartphone\", \"category\":\"Electronics\", \"price\": 27000, \"stock\":12}\n",
    "print(products)"
   ]
  },
  {
   "cell_type": "markdown",
   "id": "aec1a07d-b545-4a55-a2a1-63da77169fc0",
   "metadata": {},
   "source": [
    "## Question#4\n",
    "Q4. You are given a list that contains some duplicate items. Remove the duplicates by converting the\n",
    "list to a set.\n",
    "shopping_list = [\"apple\", \"banana\", \"apple\", \"orange\", \"banana\", \"grape\"]"
   ]
  },
  {
   "cell_type": "code",
   "execution_count": 4,
   "id": "6407554a-51ad-4e5b-b350-d7004e968db6",
   "metadata": {},
   "outputs": [
    {
     "data": {
      "text/plain": [
       "{'apple', 'banana', 'grape', 'orange'}"
      ]
     },
     "execution_count": 4,
     "metadata": {},
     "output_type": "execute_result"
    }
   ],
   "source": [
    "shopping_list = [\"apple\", \"banana\", \"apple\", \"orange\", \"banana\", \"grape\"]\n",
    "set(shopping_list)"
   ]
  },
  {
   "cell_type": "markdown",
   "id": "5ca807b1-f57c-434d-ab60-19f60af7da14",
   "metadata": {},
   "source": [
    "## Question#5\n",
    "Q5. You are managing a list of students enrolled in two different courses. You need to perform\n",
    "various set operations to understand the student enrollment. \n",
    "Task: Create two sets: one for students\n",
    "in \"Course A\" and one for students in \"Course B\". Find the students who are in \"Course A\" but not in\n",
    "\"Course B\" (difference). Find students who are only in one of the two courses (symmetric\n",
    "difference). course_a = {\"John\", \"Alice\", \"Bob\", \"David\"} course_b = {&quot;Alice&quot;, Eve&quot;, \"Charlie\",\n",
    "\"David\"}\n",
    "• Find students who are in Course A but not in Course B (difference)\n",
    "• Find students who are only in one of the two courses (symmetric difference)"
   ]
  },
  {
   "cell_type": "code",
   "execution_count": 5,
   "id": "67b1df79-2fe7-409d-a3b4-7db7c03107ba",
   "metadata": {},
   "outputs": [
    {
     "name": "stdout",
     "output_type": "stream",
     "text": [
      "students only in course A are:{'Bob', 'john'}\n",
      "students who are only in one of the two courses are :{'Bob', 'Eve', 'Charlie', 'john'}\n"
     ]
    }
   ],
   "source": [
    "course_a={\"john\",\"Alice\", \"Bob\", \"David\"}\n",
    "course_b={\"Alice\", \"Eve\", \"Charlie\", \"David\"}\n",
    "students_only_in_course_a =course_a.difference(course_b)\n",
    "print(f\"students only in course A are:{students_only_in_course_a}\")\n",
    "in_any_course =course_a.symmetric_difference(course_b)\n",
    "print(f\"students who are only in one of the two courses are :{in_any_course}\")"
   ]
  },
  {
   "cell_type": "markdown",
   "id": "009de452-84c3-448f-a4f9-6fee6799fadb",
   "metadata": {},
   "source": [
    "## Question#6\n",
    "Q6. Write a Python program that calculates the sum of all even numbers between 1 and 50\n",
    "(inclusive) using a for loop.\n",
    "Hint\n",
    "1. Initialize a variable to hold the sum (e.g., sum_of_evens).\n",
    "2. Use a for loop to iterate through all numbers from 1 to 50.\n",
    "3. Inside the loop, check if the number is even.\n",
    "4. If the number is even, add it to sum_of_evens.\n",
    "5. After the loop finishes, print the total sum of all even numbers between 1 and 50."
   ]
  },
  {
   "cell_type": "code",
   "execution_count": 6,
   "id": "0e0debf5-8f2d-4bb3-8b62-66a5a2f1f666",
   "metadata": {},
   "outputs": [
    {
     "name": "stdout",
     "output_type": "stream",
     "text": [
      "650\n"
     ]
    }
   ],
   "source": [
    "sum_of_evens=0\n",
    "for a in range(2,51):\n",
    "    if a % 2==0:\n",
    "       sum_of_evens+= a\n",
    "print(sum_of_evens)"
   ]
  },
  {
   "cell_type": "markdown",
   "id": "ad69ff69-d3b5-432c-bbe7-6ec36bc928f7",
   "metadata": {},
   "source": [
    "## Question#7\n",
    "Q7. Write a Python program that prints the multiplication table for a given number (between 1 and\n",
    "10) using a for loop.\n",
    "\n",
    "Hint:\n",
    "1. Ask the user for a number between 1 and 10 .\n",
    "2. Use a for loop to iterate through the numbers from 1 to 10.\n",
    "3. For each iteration, calculate the product of the given number and the current number in the\n",
    "loop.\n",
    "4. Print the result in a readable format (e.g., 5 x 1 = 5).\n",
    "5. Ensure the program works correctly for any number between 1 and 10."
   ]
  },
  {
   "cell_type": "code",
   "execution_count": 7,
   "id": "70e5a411-4f30-49d2-869b-bdbfd564f849",
   "metadata": {},
   "outputs": [
    {
     "name": "stdin",
     "output_type": "stream",
     "text": [
      "enter a number between 1 to 10 5\n"
     ]
    },
    {
     "name": "stdout",
     "output_type": "stream",
     "text": [
      "5 x 1 = 5\n",
      "5 x 2 = 10\n",
      "5 x 3 = 15\n",
      "5 x 4 = 20\n",
      "5 x 5 = 25\n",
      "5 x 6 = 30\n",
      "5 x 7 = 35\n",
      "5 x 8 = 40\n",
      "5 x 9 = 45\n",
      "5 x 10 = 50\n"
     ]
    }
   ],
   "source": [
    "number=int(input(\"enter a number between 1 to 10\"))\n",
    "if 1<= number <=10:\n",
    "    for i in range(1,11):\n",
    "        product= number * i\n",
    "        print(number,\"x\",i,\"=\",product)\n",
    "else:\n",
    "    print(\"enter a number between 1 to 10\")"
   ]
  },
  {
   "cell_type": "markdown",
   "id": "12f7bf96-b7e0-4eed-8a7f-0f13042841c8",
   "metadata": {},
   "source": [
    "## Question#8\n",
    "Q8. Power of a Number\n",
    "Write a Python program that takes a number and prints the powers of the number (starting from 1\n",
    "to 10) using a while loop. For example, if the user inputs 3, the output should be:\n",
    "3^1 = 3\n",
    "3^2 = 9\n",
    "3^3 = 27\n",
    "... up to 3^10."
   ]
  },
  {
   "cell_type": "code",
   "execution_count": 12,
   "id": "869844ba-8a63-4d9c-9814-010f1fc0004b",
   "metadata": {},
   "outputs": [
    {
     "name": "stdin",
     "output_type": "stream",
     "text": [
      "Enter a number between 1 to 10 5\n"
     ]
    },
    {
     "name": "stdout",
     "output_type": "stream",
     "text": [
      "5 ^ 1 = 5\n",
      "5 ^ 2 = 25\n",
      "5 ^ 3 = 125\n",
      "5 ^ 4 = 625\n",
      "5 ^ 5 = 3125\n",
      "5 ^ 6 = 15625\n",
      "5 ^ 7 = 78125\n",
      "5 ^ 8 = 390625\n",
      "5 ^ 9 = 1953125\n",
      "5 ^ 10 = 9765625\n"
     ]
    }
   ],
   "source": [
    "num = int(input(\"Enter a number between 1 to 10\"))\n",
    "number = 1\n",
    "while number <= 10:\n",
    "    power = num ** number\n",
    "    print(f\"{num} ^ {number} = {power}\")\n",
    "    number += 1"
   ]
  },
  {
   "cell_type": "markdown",
   "id": "ebf1a749-18fa-4c00-8d54-bd5c7be56202",
   "metadata": {},
   "source": [
    "## Question#9\n",
    "Problem Statement: Write a Python program that takes an integer input from the user and\n",
    "counts down from that number to 0. The program should display the current number at each step\n",
    "until it reaches 0, at which point it should print a message indicating the countdown is finished\n",
    "Output Hint:\n",
    "Enter a number to start the countdown: 3\n",
    "3\n",
    "2\n",
    "1\n",
    "0\n",
    "Countdown finished!"
   ]
  },
  {
   "cell_type": "code",
   "execution_count": 9,
   "id": "c4c06aab-96c9-48c2-ad0f-cac1ced52c9f",
   "metadata": {},
   "outputs": [
    {
     "name": "stdin",
     "output_type": "stream",
     "text": [
      "Enter a number to start the countdown:  5\n"
     ]
    },
    {
     "name": "stdout",
     "output_type": "stream",
     "text": [
      "5\n",
      "4\n",
      "3\n",
      "2\n",
      "1\n",
      "0\n",
      "Countdown finished!\n"
     ]
    }
   ],
   "source": [
    "number = int(input(\"Enter a number to start the countdown: \"))\n",
    "while number >= 0:\n",
    "    print(number)\n",
    "    number -= 1\n",
    "\n",
    "print(\"Countdown finished!\")\n"
   ]
  },
  {
   "cell_type": "markdown",
   "id": "2eb70945-2c8b-49cb-bf57-74a7fc319ecf",
   "metadata": {},
   "source": [
    "## Question#10\n",
    "Q10. Write a Python program that takes an integer input n from the user and generates a right-\n",
    "angled triangle pattern of stars (*) with n rows. The first row should contain 1 star, the second row 2\n",
    "stars, the third row 3 stars, and so on until the nth row.\n",
    "Ensure the stars in each row are separated by spaces, and each row starts on a new line.\n"
   ]
  },
  {
   "cell_type": "code",
   "execution_count": 10,
   "id": "eaa4178a-5453-4a65-95b2-d3f84e603ab6",
   "metadata": {},
   "outputs": [
    {
     "name": "stdin",
     "output_type": "stream",
     "text": [
      "Enter the number of rows for the triangle:  5\n"
     ]
    },
    {
     "name": "stdout",
     "output_type": "stream",
     "text": [
      "* \n",
      "* * \n",
      "* * * \n",
      "* * * * \n",
      "* * * * * \n"
     ]
    }
   ],
   "source": [
    "n = int(input(\"Enter the number of rows for the triangle: \"))\n",
    "\n",
    "for i in range(1, n+1):\n",
    "    print('* ' * i)"
   ]
  },
  {
   "cell_type": "code",
   "execution_count": null,
   "id": "4c2f2086-c2dd-41ec-bb26-047958321db0",
   "metadata": {},
   "outputs": [],
   "source": []
  }
 ],
 "metadata": {
  "kernelspec": {
   "display_name": "Python 3 (ipykernel)",
   "language": "python",
   "name": "python3"
  },
  "language_info": {
   "codemirror_mode": {
    "name": "ipython",
    "version": 3
   },
   "file_extension": ".py",
   "mimetype": "text/x-python",
   "name": "python",
   "nbconvert_exporter": "python",
   "pygments_lexer": "ipython3",
   "version": "3.12.7"
  }
 },
 "nbformat": 4,
 "nbformat_minor": 5
}
