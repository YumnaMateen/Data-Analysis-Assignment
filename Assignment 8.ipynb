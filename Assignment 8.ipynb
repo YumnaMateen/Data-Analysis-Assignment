{
 "cells": [
  {
   "cell_type": "code",
   "execution_count": 38,
   "id": "a6de4fd9-e433-4798-bc5b-b5ab4b16c8cb",
   "metadata": {},
   "outputs": [],
   "source": [
    "import pandas as pd\n",
    "import numpy as np\n",
    "import seaborn as sns\n",
    "import matplotlib.pyplot as plt"
   ]
  },
  {
   "cell_type": "code",
   "execution_count": 39,
   "id": "8e189f89-857f-4ea4-bba7-6d0e51e6942a",
   "metadata": {},
   "outputs": [
    {
     "data": {
      "text/html": [
       "<div>\n",
       "<style scoped>\n",
       "    .dataframe tbody tr th:only-of-type {\n",
       "        vertical-align: middle;\n",
       "    }\n",
       "\n",
       "    .dataframe tbody tr th {\n",
       "        vertical-align: top;\n",
       "    }\n",
       "\n",
       "    .dataframe thead th {\n",
       "        text-align: right;\n",
       "    }\n",
       "</style>\n",
       "<table border=\"1\" class=\"dataframe\">\n",
       "  <thead>\n",
       "    <tr style=\"text-align: right;\">\n",
       "      <th></th>\n",
       "      <th>invoice_no</th>\n",
       "      <th>invoice_date</th>\n",
       "      <th>customer_id</th>\n",
       "      <th>gender</th>\n",
       "      <th>age</th>\n",
       "      <th>category</th>\n",
       "      <th>quantity</th>\n",
       "      <th>selling_price_per_unit</th>\n",
       "      <th>cost_price_per_unit</th>\n",
       "      <th>payment_method</th>\n",
       "      <th>region</th>\n",
       "      <th>state</th>\n",
       "      <th>shopping_mall</th>\n",
       "    </tr>\n",
       "  </thead>\n",
       "  <tbody>\n",
       "    <tr>\n",
       "      <th>0</th>\n",
       "      <td>I138884</td>\n",
       "      <td>10/30/2016 9:58</td>\n",
       "      <td>C241288</td>\n",
       "      <td>Female</td>\n",
       "      <td>28</td>\n",
       "      <td>Clothing</td>\n",
       "      <td>5</td>\n",
       "      <td>1500.40</td>\n",
       "      <td>1425.3800</td>\n",
       "      <td>Credit Card</td>\n",
       "      <td>South</td>\n",
       "      <td>Kentucky</td>\n",
       "      <td>Kanyon</td>\n",
       "    </tr>\n",
       "    <tr>\n",
       "      <th>1</th>\n",
       "      <td>I317333</td>\n",
       "      <td>10/30/2016 9:58</td>\n",
       "      <td>C111565</td>\n",
       "      <td>Male</td>\n",
       "      <td>21</td>\n",
       "      <td>Shoes</td>\n",
       "      <td>3</td>\n",
       "      <td>1800.51</td>\n",
       "      <td>1620.4590</td>\n",
       "      <td>Debit Card</td>\n",
       "      <td>South</td>\n",
       "      <td>Kentucky</td>\n",
       "      <td>Viaport Outlet</td>\n",
       "    </tr>\n",
       "    <tr>\n",
       "      <th>2</th>\n",
       "      <td>I127801</td>\n",
       "      <td>10/30/2016 9:58</td>\n",
       "      <td>C266599</td>\n",
       "      <td>Male</td>\n",
       "      <td>20</td>\n",
       "      <td>Clothing</td>\n",
       "      <td>1</td>\n",
       "      <td>300.08</td>\n",
       "      <td>295.0600</td>\n",
       "      <td>Cash</td>\n",
       "      <td>West</td>\n",
       "      <td>California</td>\n",
       "      <td>Metrocity</td>\n",
       "    </tr>\n",
       "    <tr>\n",
       "      <th>3</th>\n",
       "      <td>I173702</td>\n",
       "      <td>10/30/2016 9:58</td>\n",
       "      <td>C988172</td>\n",
       "      <td>Female</td>\n",
       "      <td>66</td>\n",
       "      <td>Shoes</td>\n",
       "      <td>5</td>\n",
       "      <td>3000.85</td>\n",
       "      <td>2900.7650</td>\n",
       "      <td>Credit Card</td>\n",
       "      <td>South</td>\n",
       "      <td>Florida</td>\n",
       "      <td>Metropol AVM</td>\n",
       "    </tr>\n",
       "    <tr>\n",
       "      <th>4</th>\n",
       "      <td>I337046</td>\n",
       "      <td>10/30/2016 9:59</td>\n",
       "      <td>C189076</td>\n",
       "      <td>Female</td>\n",
       "      <td>53</td>\n",
       "      <td>Books</td>\n",
       "      <td>4</td>\n",
       "      <td>60.60</td>\n",
       "      <td>45.4500</td>\n",
       "      <td>Cash</td>\n",
       "      <td>South</td>\n",
       "      <td>Florida</td>\n",
       "      <td>Kanyon</td>\n",
       "    </tr>\n",
       "    <tr>\n",
       "      <th>...</th>\n",
       "      <td>...</td>\n",
       "      <td>...</td>\n",
       "      <td>...</td>\n",
       "      <td>...</td>\n",
       "      <td>...</td>\n",
       "      <td>...</td>\n",
       "      <td>...</td>\n",
       "      <td>...</td>\n",
       "      <td>...</td>\n",
       "      <td>...</td>\n",
       "      <td>...</td>\n",
       "      <td>...</td>\n",
       "      <td>...</td>\n",
       "    </tr>\n",
       "    <tr>\n",
       "      <th>99452</th>\n",
       "      <td>I219422</td>\n",
       "      <td>11/15/2016 12:43</td>\n",
       "      <td>C441542</td>\n",
       "      <td>Female</td>\n",
       "      <td>45</td>\n",
       "      <td>Souvenir</td>\n",
       "      <td>5</td>\n",
       "      <td>58.65</td>\n",
       "      <td>43.9875</td>\n",
       "      <td>Credit Card</td>\n",
       "      <td>South</td>\n",
       "      <td>Alabama</td>\n",
       "      <td>Kanyon</td>\n",
       "    </tr>\n",
       "    <tr>\n",
       "      <th>99453</th>\n",
       "      <td>I325143</td>\n",
       "      <td>11/15/2016 12:43</td>\n",
       "      <td>C569580</td>\n",
       "      <td>Male</td>\n",
       "      <td>27</td>\n",
       "      <td>Food &amp; Beverage</td>\n",
       "      <td>2</td>\n",
       "      <td>10.46</td>\n",
       "      <td>7.3220</td>\n",
       "      <td>Cash</td>\n",
       "      <td>South</td>\n",
       "      <td>Alabama</td>\n",
       "      <td>Viaport Outlet</td>\n",
       "    </tr>\n",
       "    <tr>\n",
       "      <th>99454</th>\n",
       "      <td>I824010</td>\n",
       "      <td>11/15/2016 12:44</td>\n",
       "      <td>C103292</td>\n",
       "      <td>Male</td>\n",
       "      <td>63</td>\n",
       "      <td>Food &amp; Beverage</td>\n",
       "      <td>2</td>\n",
       "      <td>10.46</td>\n",
       "      <td>7.3220</td>\n",
       "      <td>Debit Card</td>\n",
       "      <td>South</td>\n",
       "      <td>Alabama</td>\n",
       "      <td>Metrocity</td>\n",
       "    </tr>\n",
       "    <tr>\n",
       "      <th>99455</th>\n",
       "      <td>I702964</td>\n",
       "      <td>11/15/2016 12:44</td>\n",
       "      <td>C800631</td>\n",
       "      <td>Male</td>\n",
       "      <td>56</td>\n",
       "      <td>Technology</td>\n",
       "      <td>4</td>\n",
       "      <td>4200.00</td>\n",
       "      <td>3780.0000</td>\n",
       "      <td>Cash</td>\n",
       "      <td>South</td>\n",
       "      <td>Georgia</td>\n",
       "      <td>Istinye Park</td>\n",
       "    </tr>\n",
       "    <tr>\n",
       "      <th>99456</th>\n",
       "      <td>I232867</td>\n",
       "      <td>11/15/2016 12:44</td>\n",
       "      <td>C273973</td>\n",
       "      <td>Female</td>\n",
       "      <td>36</td>\n",
       "      <td>Souvenir</td>\n",
       "      <td>3</td>\n",
       "      <td>35.19</td>\n",
       "      <td>24.6330</td>\n",
       "      <td>Credit Card</td>\n",
       "      <td>South</td>\n",
       "      <td>Georgia</td>\n",
       "      <td>Mall of Istanbul</td>\n",
       "    </tr>\n",
       "  </tbody>\n",
       "</table>\n",
       "<p>99457 rows × 13 columns</p>\n",
       "</div>"
      ],
      "text/plain": [
       "      invoice_no      invoice_date customer_id  gender  age         category  \\\n",
       "0        I138884   10/30/2016 9:58     C241288  Female   28         Clothing   \n",
       "1        I317333   10/30/2016 9:58     C111565    Male   21            Shoes   \n",
       "2        I127801   10/30/2016 9:58     C266599    Male   20         Clothing   \n",
       "3        I173702   10/30/2016 9:58     C988172  Female   66            Shoes   \n",
       "4        I337046   10/30/2016 9:59     C189076  Female   53            Books   \n",
       "...          ...               ...         ...     ...  ...              ...   \n",
       "99452    I219422  11/15/2016 12:43     C441542  Female   45         Souvenir   \n",
       "99453    I325143  11/15/2016 12:43     C569580    Male   27  Food & Beverage   \n",
       "99454    I824010  11/15/2016 12:44     C103292    Male   63  Food & Beverage   \n",
       "99455    I702964  11/15/2016 12:44     C800631    Male   56       Technology   \n",
       "99456    I232867  11/15/2016 12:44     C273973  Female   36         Souvenir   \n",
       "\n",
       "       quantity  selling_price_per_unit  cost_price_per_unit payment_method  \\\n",
       "0             5                 1500.40            1425.3800    Credit Card   \n",
       "1             3                 1800.51            1620.4590     Debit Card   \n",
       "2             1                  300.08             295.0600           Cash   \n",
       "3             5                 3000.85            2900.7650    Credit Card   \n",
       "4             4                   60.60              45.4500           Cash   \n",
       "...         ...                     ...                  ...            ...   \n",
       "99452         5                   58.65              43.9875    Credit Card   \n",
       "99453         2                   10.46               7.3220           Cash   \n",
       "99454         2                   10.46               7.3220     Debit Card   \n",
       "99455         4                 4200.00            3780.0000           Cash   \n",
       "99456         3                   35.19              24.6330    Credit Card   \n",
       "\n",
       "      region       state     shopping_mall  \n",
       "0      South    Kentucky            Kanyon  \n",
       "1      South    Kentucky    Viaport Outlet  \n",
       "2       West  California         Metrocity  \n",
       "3      South     Florida      Metropol AVM  \n",
       "4      South     Florida            Kanyon  \n",
       "...      ...         ...               ...  \n",
       "99452  South     Alabama            Kanyon  \n",
       "99453  South     Alabama    Viaport Outlet  \n",
       "99454  South     Alabama         Metrocity  \n",
       "99455  South     Georgia      Istinye Park  \n",
       "99456  South     Georgia  Mall of Istanbul  \n",
       "\n",
       "[99457 rows x 13 columns]"
      ]
     },
     "execution_count": 39,
     "metadata": {},
     "output_type": "execute_result"
    }
   ],
   "source": [
    "df = pd.read_csv(\"Different_stores_dataset (1).csv\")\n",
    "df"
   ]
  },
  {
   "cell_type": "code",
   "execution_count": 40,
   "id": "6ef27a08-5e1d-47bd-bf2d-22b7dbad6eb0",
   "metadata": {},
   "outputs": [
    {
     "data": {
      "text/plain": [
       "(99457, 13)"
      ]
     },
     "execution_count": 40,
     "metadata": {},
     "output_type": "execute_result"
    }
   ],
   "source": [
    "df.shape"
   ]
  },
  {
   "cell_type": "code",
   "execution_count": 41,
   "id": "dde03474-0d29-4e1d-b2f1-d594dfd5d8a8",
   "metadata": {},
   "outputs": [
    {
     "name": "stdout",
     "output_type": "stream",
     "text": [
      "<class 'pandas.core.frame.DataFrame'>\n",
      "RangeIndex: 99457 entries, 0 to 99456\n",
      "Data columns (total 13 columns):\n",
      " #   Column                  Non-Null Count  Dtype  \n",
      "---  ------                  --------------  -----  \n",
      " 0   invoice_no              99457 non-null  object \n",
      " 1   invoice_date            99457 non-null  object \n",
      " 2   customer_id             99457 non-null  object \n",
      " 3   gender                  99457 non-null  object \n",
      " 4   age                     99457 non-null  int64  \n",
      " 5   category                99457 non-null  object \n",
      " 6   quantity                99457 non-null  int64  \n",
      " 7   selling_price_per_unit  99457 non-null  float64\n",
      " 8   cost_price_per_unit     99457 non-null  float64\n",
      " 9   payment_method          99457 non-null  object \n",
      " 10  region                  99457 non-null  object \n",
      " 11  state                   99457 non-null  object \n",
      " 12  shopping_mall           99457 non-null  object \n",
      "dtypes: float64(2), int64(2), object(9)\n",
      "memory usage: 9.9+ MB\n"
     ]
    }
   ],
   "source": [
    "df.info()"
   ]
  },
  {
   "cell_type": "code",
   "execution_count": null,
   "id": "df1f8a12-d066-4bb3-ad94-05eefa6c0efd",
   "metadata": {},
   "outputs": [],
   "source": []
  },
  {
   "cell_type": "markdown",
   "id": "62298c37-3503-467f-85e3-1a44f163a334",
   "metadata": {},
   "source": [
    "### 1. Check missing values and duplicate records"
   ]
  },
  {
   "cell_type": "code",
   "execution_count": 42,
   "id": "40d6e31b-cb2d-4dd0-a03b-9472428a30d9",
   "metadata": {},
   "outputs": [
    {
     "name": "stdout",
     "output_type": "stream",
     "text": [
      "Missing values:\n",
      " invoice_no                0\n",
      "invoice_date              0\n",
      "customer_id               0\n",
      "gender                    0\n",
      "age                       0\n",
      "category                  0\n",
      "quantity                  0\n",
      "selling_price_per_unit    0\n",
      "cost_price_per_unit       0\n",
      "payment_method            0\n",
      "region                    0\n",
      "state                     0\n",
      "shopping_mall             0\n",
      "dtype: int64\n"
     ]
    }
   ],
   "source": [
    "missing_values = df.isnull().sum()\n",
    "print(\"Missing values:\\n\", missing_values)\n"
   ]
  },
  {
   "cell_type": "code",
   "execution_count": 43,
   "id": "3dd02dfc-967b-419d-a20b-74068a919967",
   "metadata": {},
   "outputs": [
    {
     "name": "stdout",
     "output_type": "stream",
     "text": [
      "Duplicate records: 0\n"
     ]
    }
   ],
   "source": [
    "duplicates = df.duplicated().sum()\n",
    "print(\"Duplicate records:\", duplicates)"
   ]
  },
  {
   "cell_type": "markdown",
   "id": "c70db244-711e-4406-8d14-40c08539b8e5",
   "metadata": {},
   "source": [
    "### 2. Add column name 'Total Sales'"
   ]
  },
  {
   "cell_type": "code",
   "execution_count": 44,
   "id": "00b1c588-fc75-4e86-b62a-8b5dfcf6f4b7",
   "metadata": {},
   "outputs": [
    {
     "data": {
      "text/html": [
       "<div>\n",
       "<style scoped>\n",
       "    .dataframe tbody tr th:only-of-type {\n",
       "        vertical-align: middle;\n",
       "    }\n",
       "\n",
       "    .dataframe tbody tr th {\n",
       "        vertical-align: top;\n",
       "    }\n",
       "\n",
       "    .dataframe thead th {\n",
       "        text-align: right;\n",
       "    }\n",
       "</style>\n",
       "<table border=\"1\" class=\"dataframe\">\n",
       "  <thead>\n",
       "    <tr style=\"text-align: right;\">\n",
       "      <th></th>\n",
       "      <th>invoice_no</th>\n",
       "      <th>invoice_date</th>\n",
       "      <th>customer_id</th>\n",
       "      <th>gender</th>\n",
       "      <th>age</th>\n",
       "      <th>category</th>\n",
       "      <th>quantity</th>\n",
       "      <th>selling_price_per_unit</th>\n",
       "      <th>cost_price_per_unit</th>\n",
       "      <th>payment_method</th>\n",
       "      <th>region</th>\n",
       "      <th>state</th>\n",
       "      <th>shopping_mall</th>\n",
       "      <th>Total Sales</th>\n",
       "    </tr>\n",
       "  </thead>\n",
       "  <tbody>\n",
       "    <tr>\n",
       "      <th>0</th>\n",
       "      <td>I138884</td>\n",
       "      <td>10/30/2016 9:58</td>\n",
       "      <td>C241288</td>\n",
       "      <td>Female</td>\n",
       "      <td>28</td>\n",
       "      <td>Clothing</td>\n",
       "      <td>5</td>\n",
       "      <td>1500.4</td>\n",
       "      <td>1425.38</td>\n",
       "      <td>Credit Card</td>\n",
       "      <td>South</td>\n",
       "      <td>Kentucky</td>\n",
       "      <td>Kanyon</td>\n",
       "      <td>7502.0</td>\n",
       "    </tr>\n",
       "  </tbody>\n",
       "</table>\n",
       "</div>"
      ],
      "text/plain": [
       "  invoice_no     invoice_date customer_id  gender  age  category  quantity  \\\n",
       "0    I138884  10/30/2016 9:58     C241288  Female   28  Clothing         5   \n",
       "\n",
       "   selling_price_per_unit  cost_price_per_unit payment_method region  \\\n",
       "0                  1500.4              1425.38    Credit Card  South   \n",
       "\n",
       "      state shopping_mall  Total Sales  \n",
       "0  Kentucky        Kanyon       7502.0  "
      ]
     },
     "execution_count": 44,
     "metadata": {},
     "output_type": "execute_result"
    }
   ],
   "source": [
    "df[\"Total Sales\"]= df['quantity'] * df['selling_price_per_unit']\n",
    "df.head(1)"
   ]
  },
  {
   "cell_type": "markdown",
   "id": "cb7a68ea-fe72-439b-85ac-3a443d67c2f2",
   "metadata": {},
   "source": [
    "### 3. How many customers have age more than 60?"
   ]
  },
  {
   "cell_type": "code",
   "execution_count": 45,
   "id": "a7d98dc9-cda0-4698-ab90-09cfc2616abc",
   "metadata": {},
   "outputs": [
    {
     "data": {
      "text/plain": [
       "17169"
      ]
     },
     "execution_count": 45,
     "metadata": {},
     "output_type": "execute_result"
    }
   ],
   "source": [
    "Customer_over_60 = df[df[\"age\"]>60]\n",
    "Total_Customer_over_60 = Customer_over_60.shape[0]\n",
    "Total_Customer_over_60"
   ]
  },
  {
   "cell_type": "markdown",
   "id": "02f93e1f-5e74-4c7f-8934-92156288e982",
   "metadata": {},
   "source": [
    "### 4. How many unique customer_id entries are there? Do any customers make multiple purchases?"
   ]
  },
  {
   "cell_type": "code",
   "execution_count": 46,
   "id": "25e358aa-dc27-4e78-b307-e04d97eda352",
   "metadata": {},
   "outputs": [
    {
     "name": "stdout",
     "output_type": "stream",
     "text": [
      " unique customers IDs: {99457}\n",
      "Customers with multiple purchases: 0\n"
     ]
    }
   ],
   "source": [
    "unique_customers = df['customer_id'].nunique()\n",
    "print(\" unique customers IDs:\", {unique_customers})\n",
    "\n",
    "multiple_purchases = df['customer_id'].value_counts()\n",
    "customers_with_multiple_purchases= multiple_purchases[multiple_purchases >1]\n",
    "Total_customers_with_multiple_purchases = customers_with_multiple_purchases.shape[0]\n",
    "print(\"Customers with multiple purchases:\",Total_customers_with_multiple_purchases )"
   ]
  },
  {
   "cell_type": "markdown",
   "id": "b5bafe98-cfe8-403e-9027-7c3c6208334b",
   "metadata": {},
   "source": [
    "### 5. Are there more male or female customers, Show in Pie Chart?"
   ]
  },
  {
   "cell_type": "code",
   "execution_count": 58,
   "id": "518f4118-2d33-4139-af6c-221c0e2c2b99",
   "metadata": {},
   "outputs": [
    {
     "data": {
      "image/png": "[encoded data removed]",
      "text/plain": [
       "<Figure size 1200x500 with 1 Axes>"
      ]
     },
     "metadata": {},
     "output_type": "display_data"
    }
   ],
   "source": [
    "df.gender.value_counts().plot(kind=\"pie\", figsize=(12,5))\n",
    "plt.title(\"Gender of customers\")\n",
    "plt.show()"
   ]
  },
  {
   "cell_type": "markdown",
   "id": "fbd9773a-65d3-4fc8-b885-b337f2c82a1f",
   "metadata": {},
   "source": [
    "### 6. Which category is least popular among customers?"
   ]
  },
  {
   "cell_type": "code",
   "execution_count": 61,
   "id": "777dc074-dcef-4801-9058-5252eefe2e57",
   "metadata": {},
   "outputs": [
    {
     "name": "stdout",
     "output_type": "stream",
     "text": [
      "The least popular category among customers is: Books\n"
     ]
    }
   ],
   "source": [
    "least_popular_category = df['category'].value_counts().idxmin()\n",
    "\n",
    "print(\"The least popular category:\", least_popular_category)\n"
   ]
  },
  {
   "cell_type": "markdown",
   "id": "f460962d-92bb-40e5-9417-5647a3d2da5a",
   "metadata": {},
   "source": [
    "### 7. Which category has the highest sales volume?"
   ]
  },
  {
   "cell_type": "code",
   "execution_count": 62,
   "id": "78ea8362-d255-4114-8af0-6db753177dd0",
   "metadata": {},
   "outputs": [
    {
     "name": "stdout",
     "output_type": "stream",
     "text": [
      "The highest popular category: Clothing\n"
     ]
    }
   ],
   "source": [
    "highest_sales_category = df['category'].value_counts().idxmax()\n",
    "\n",
    "print(\"The highest popular category:\", highest_sales_category)"
   ]
  },
  {
   "cell_type": "markdown",
   "id": "072ffb70-be13-4748-8379-3ab98cbde250",
   "metadata": {},
   "source": [
    "### 8. Add column name 'Total Profit'\n",
    "\n",
    "Total Profit=Total Sales−Total Costs"
   ]
  },
  {
   "cell_type": "code",
   "execution_count": 83,
   "id": "1fe7ff21-f3e6-4ad6-b3bd-1ad9532ada68",
   "metadata": {},
   "outputs": [
    {
     "data": {
      "text/html": [
       "<div>\n",
       "<style scoped>\n",
       "    .dataframe tbody tr th:only-of-type {\n",
       "        vertical-align: middle;\n",
       "    }\n",
       "\n",
       "    .dataframe tbody tr th {\n",
       "        vertical-align: top;\n",
       "    }\n",
       "\n",
       "    .dataframe thead th {\n",
       "        text-align: right;\n",
       "    }\n",
       "</style>\n",
       "<table border=\"1\" class=\"dataframe\">\n",
       "  <thead>\n",
       "    <tr style=\"text-align: right;\">\n",
       "      <th></th>\n",
       "      <th>invoice_no</th>\n",
       "      <th>invoice_date</th>\n",
       "      <th>customer_id</th>\n",
       "      <th>gender</th>\n",
       "      <th>age</th>\n",
       "      <th>category</th>\n",
       "      <th>quantity</th>\n",
       "      <th>selling_price_per_unit</th>\n",
       "      <th>cost_price_per_unit</th>\n",
       "      <th>payment_method</th>\n",
       "      <th>region</th>\n",
       "      <th>state</th>\n",
       "      <th>shopping_mall</th>\n",
       "      <th>Total Sales</th>\n",
       "      <th>Total Profit</th>\n",
       "      <th>Profit Margin</th>\n",
       "    </tr>\n",
       "  </thead>\n",
       "  <tbody>\n",
       "    <tr>\n",
       "      <th>0</th>\n",
       "      <td>I138884</td>\n",
       "      <td>10/30/2016 9:58</td>\n",
       "      <td>C241288</td>\n",
       "      <td>Female</td>\n",
       "      <td>28</td>\n",
       "      <td>Clothing</td>\n",
       "      <td>5</td>\n",
       "      <td>1500.4</td>\n",
       "      <td>1425.38</td>\n",
       "      <td>Credit Card</td>\n",
       "      <td>South</td>\n",
       "      <td>Kentucky</td>\n",
       "      <td>Kanyon</td>\n",
       "      <td>7502.0</td>\n",
       "      <td>375.1</td>\n",
       "      <td>405.0</td>\n",
       "    </tr>\n",
       "  </tbody>\n",
       "</table>\n",
       "</div>"
      ],
      "text/plain": [
       "  invoice_no     invoice_date customer_id  gender  age  category  quantity  \\\n",
       "0    I138884  10/30/2016 9:58     C241288  Female   28  Clothing         5   \n",
       "\n",
       "   selling_price_per_unit  cost_price_per_unit payment_method region  \\\n",
       "0                  1500.4              1425.38    Credit Card  South   \n",
       "\n",
       "      state shopping_mall  Total Sales  Total Profit  Profit Margin  \n",
       "0  Kentucky        Kanyon       7502.0         375.1          405.0  "
      ]
     },
     "execution_count": 83,
     "metadata": {},
     "output_type": "execute_result"
    }
   ],
   "source": [
    "df['Total Profit'] = df['Total Sales'] - df['cost_price_per_unit'] * df['quantity']\n",
    "df.head(1)"
   ]
  },
  {
   "cell_type": "markdown",
   "id": "25d34dd0-d3e7-4238-a0c5-7e65835affa4",
   "metadata": {},
   "source": [
    "### 9. Display the top 10 invoices with the highest quantities sold?"
   ]
  },
  {
   "cell_type": "code",
   "execution_count": 77,
   "id": "b5c0c5ce-0437-417c-8588-d5a6d9824822",
   "metadata": {},
   "outputs": [
    {
     "data": {
      "text/html": [
       "<div>\n",
       "<style scoped>\n",
       "    .dataframe tbody tr th:only-of-type {\n",
       "        vertical-align: middle;\n",
       "    }\n",
       "\n",
       "    .dataframe tbody tr th {\n",
       "        vertical-align: top;\n",
       "    }\n",
       "\n",
       "    .dataframe thead th {\n",
       "        text-align: right;\n",
       "    }\n",
       "</style>\n",
       "<table border=\"1\" class=\"dataframe\">\n",
       "  <thead>\n",
       "    <tr style=\"text-align: right;\">\n",
       "      <th></th>\n",
       "      <th>invoice_no</th>\n",
       "      <th>invoice_date</th>\n",
       "      <th>customer_id</th>\n",
       "      <th>gender</th>\n",
       "      <th>age</th>\n",
       "      <th>category</th>\n",
       "      <th>quantity</th>\n",
       "      <th>selling_price_per_unit</th>\n",
       "      <th>cost_price_per_unit</th>\n",
       "      <th>payment_method</th>\n",
       "      <th>region</th>\n",
       "      <th>state</th>\n",
       "      <th>shopping_mall</th>\n",
       "      <th>Total Sales</th>\n",
       "      <th>Total Profit</th>\n",
       "      <th>Profit Margin</th>\n",
       "    </tr>\n",
       "  </thead>\n",
       "  <tbody>\n",
       "    <tr>\n",
       "      <th>100</th>\n",
       "      <td>I283443</td>\n",
       "      <td>10/30/2016 10:21</td>\n",
       "      <td>C189493</td>\n",
       "      <td>Male</td>\n",
       "      <td>43</td>\n",
       "      <td>Technology</td>\n",
       "      <td>15</td>\n",
       "      <td>3150.00</td>\n",
       "      <td>2677.500</td>\n",
       "      <td>Credit Card</td>\n",
       "      <td>Central</td>\n",
       "      <td>Illinois</td>\n",
       "      <td>Viaport Outlet</td>\n",
       "      <td>47250.00</td>\n",
       "      <td>668587.500</td>\n",
       "      <td>15.000000</td>\n",
       "    </tr>\n",
       "    <tr>\n",
       "      <th>109</th>\n",
       "      <td>I293215</td>\n",
       "      <td>10/30/2016 10:23</td>\n",
       "      <td>C166635</td>\n",
       "      <td>Male</td>\n",
       "      <td>18</td>\n",
       "      <td>Cosmetics</td>\n",
       "      <td>12</td>\n",
       "      <td>162.64</td>\n",
       "      <td>130.112</td>\n",
       "      <td>Credit Card</td>\n",
       "      <td>Central</td>\n",
       "      <td>Illinois</td>\n",
       "      <td>Istinye Park</td>\n",
       "      <td>1951.68</td>\n",
       "      <td>21858.816</td>\n",
       "      <td>20.000000</td>\n",
       "    </tr>\n",
       "    <tr>\n",
       "      <th>275</th>\n",
       "      <td>I282789</td>\n",
       "      <td>10/30/2016 11:02</td>\n",
       "      <td>C172185</td>\n",
       "      <td>Female</td>\n",
       "      <td>67</td>\n",
       "      <td>Cosmetics</td>\n",
       "      <td>12</td>\n",
       "      <td>81.32</td>\n",
       "      <td>76.924</td>\n",
       "      <td>Cash</td>\n",
       "      <td>West</td>\n",
       "      <td>Idaho</td>\n",
       "      <td>Istinye Park</td>\n",
       "      <td>975.84</td>\n",
       "      <td>10786.992</td>\n",
       "      <td>5.405804</td>\n",
       "    </tr>\n",
       "    <tr>\n",
       "      <th>305</th>\n",
       "      <td>I115679</td>\n",
       "      <td>10/30/2016 11:09</td>\n",
       "      <td>C266462</td>\n",
       "      <td>Male</td>\n",
       "      <td>27</td>\n",
       "      <td>Clothing</td>\n",
       "      <td>11</td>\n",
       "      <td>300.08</td>\n",
       "      <td>285.060</td>\n",
       "      <td>Cash</td>\n",
       "      <td>Central</td>\n",
       "      <td>Michigan</td>\n",
       "      <td>Kanyon</td>\n",
       "      <td>3300.88</td>\n",
       "      <td>33174.020</td>\n",
       "      <td>5.005332</td>\n",
       "    </tr>\n",
       "    <tr>\n",
       "      <th>61</th>\n",
       "      <td>I207205</td>\n",
       "      <td>10/30/2016 10:12</td>\n",
       "      <td>C716161</td>\n",
       "      <td>Female</td>\n",
       "      <td>33</td>\n",
       "      <td>Clothing</td>\n",
       "      <td>10</td>\n",
       "      <td>300.08</td>\n",
       "      <td>225.060</td>\n",
       "      <td>Debit Card</td>\n",
       "      <td>East</td>\n",
       "      <td>New York</td>\n",
       "      <td>Kanyon</td>\n",
       "      <td>3000.80</td>\n",
       "      <td>27757.400</td>\n",
       "      <td>25.000000</td>\n",
       "    </tr>\n",
       "    <tr>\n",
       "      <th>129</th>\n",
       "      <td>I160221</td>\n",
       "      <td>10/30/2016 10:28</td>\n",
       "      <td>C319231</td>\n",
       "      <td>Male</td>\n",
       "      <td>25</td>\n",
       "      <td>Clothing</td>\n",
       "      <td>10</td>\n",
       "      <td>900.24</td>\n",
       "      <td>675.180</td>\n",
       "      <td>Cash</td>\n",
       "      <td>West</td>\n",
       "      <td>Oregon</td>\n",
       "      <td>Mall of Istanbul</td>\n",
       "      <td>9002.40</td>\n",
       "      <td>83272.200</td>\n",
       "      <td>25.000000</td>\n",
       "    </tr>\n",
       "    <tr>\n",
       "      <th>224</th>\n",
       "      <td>I353272</td>\n",
       "      <td>10/30/2016 10:50</td>\n",
       "      <td>C199311</td>\n",
       "      <td>Female</td>\n",
       "      <td>34</td>\n",
       "      <td>Clothing</td>\n",
       "      <td>10</td>\n",
       "      <td>300.08</td>\n",
       "      <td>292.060</td>\n",
       "      <td>Credit Card</td>\n",
       "      <td>East</td>\n",
       "      <td>Ohio</td>\n",
       "      <td>Istinye Park</td>\n",
       "      <td>3000.80</td>\n",
       "      <td>27087.400</td>\n",
       "      <td>2.672621</td>\n",
       "    </tr>\n",
       "    <tr>\n",
       "      <th>201</th>\n",
       "      <td>I286193</td>\n",
       "      <td>10/30/2016 10:45</td>\n",
       "      <td>C322994</td>\n",
       "      <td>Male</td>\n",
       "      <td>37</td>\n",
       "      <td>Cosmetics</td>\n",
       "      <td>9</td>\n",
       "      <td>121.98</td>\n",
       "      <td>118.485</td>\n",
       "      <td>Cash</td>\n",
       "      <td>West</td>\n",
       "      <td>Colorado</td>\n",
       "      <td>Istinye Park</td>\n",
       "      <td>1097.82</td>\n",
       "      <td>8814.015</td>\n",
       "      <td>2.865224</td>\n",
       "    </tr>\n",
       "    <tr>\n",
       "      <th>11</th>\n",
       "      <td>I139207</td>\n",
       "      <td>10/30/2016 10:00</td>\n",
       "      <td>C191708</td>\n",
       "      <td>Female</td>\n",
       "      <td>29</td>\n",
       "      <td>Books</td>\n",
       "      <td>8</td>\n",
       "      <td>15.15</td>\n",
       "      <td>15.105</td>\n",
       "      <td>Credit Card</td>\n",
       "      <td>West</td>\n",
       "      <td>Idaho</td>\n",
       "      <td>Zorlu Center</td>\n",
       "      <td>121.20</td>\n",
       "      <td>848.760</td>\n",
       "      <td>0.297030</td>\n",
       "    </tr>\n",
       "    <tr>\n",
       "      <th>145</th>\n",
       "      <td>I246375</td>\n",
       "      <td>10/30/2016 10:32</td>\n",
       "      <td>C236365</td>\n",
       "      <td>Female</td>\n",
       "      <td>67</td>\n",
       "      <td>Cosmetics</td>\n",
       "      <td>8</td>\n",
       "      <td>81.32</td>\n",
       "      <td>56.924</td>\n",
       "      <td>Cash</td>\n",
       "      <td>West</td>\n",
       "      <td>Oregon</td>\n",
       "      <td>Kanyon</td>\n",
       "      <td>650.56</td>\n",
       "      <td>4749.088</td>\n",
       "      <td>30.000000</td>\n",
       "    </tr>\n",
       "  </tbody>\n",
       "</table>\n",
       "</div>"
      ],
      "text/plain": [
       "    invoice_no      invoice_date customer_id  gender  age    category  \\\n",
       "100    I283443  10/30/2016 10:21     C189493    Male   43  Technology   \n",
       "109    I293215  10/30/2016 10:23     C166635    Male   18   Cosmetics   \n",
       "275    I282789  10/30/2016 11:02     C172185  Female   67   Cosmetics   \n",
       "305    I115679  10/30/2016 11:09     C266462    Male   27    Clothing   \n",
       "61     I207205  10/30/2016 10:12     C716161  Female   33    Clothing   \n",
       "129    I160221  10/30/2016 10:28     C319231    Male   25    Clothing   \n",
       "224    I353272  10/30/2016 10:50     C199311  Female   34    Clothing   \n",
       "201    I286193  10/30/2016 10:45     C322994    Male   37   Cosmetics   \n",
       "11     I139207  10/30/2016 10:00     C191708  Female   29       Books   \n",
       "145    I246375  10/30/2016 10:32     C236365  Female   67   Cosmetics   \n",
       "\n",
       "     quantity  selling_price_per_unit  cost_price_per_unit payment_method  \\\n",
       "100        15                 3150.00             2677.500    Credit Card   \n",
       "109        12                  162.64              130.112    Credit Card   \n",
       "275        12                   81.32               76.924           Cash   \n",
       "305        11                  300.08              285.060           Cash   \n",
       "61         10                  300.08              225.060     Debit Card   \n",
       "129        10                  900.24              675.180           Cash   \n",
       "224        10                  300.08              292.060    Credit Card   \n",
       "201         9                  121.98              118.485           Cash   \n",
       "11          8                   15.15               15.105    Credit Card   \n",
       "145         8                   81.32               56.924           Cash   \n",
       "\n",
       "      region     state     shopping_mall  Total Sales  Total Profit  \\\n",
       "100  Central  Illinois    Viaport Outlet     47250.00    668587.500   \n",
       "109  Central  Illinois      Istinye Park      1951.68     21858.816   \n",
       "275     West     Idaho      Istinye Park       975.84     10786.992   \n",
       "305  Central  Michigan            Kanyon      3300.88     33174.020   \n",
       "61      East  New York            Kanyon      3000.80     27757.400   \n",
       "129     West    Oregon  Mall of Istanbul      9002.40     83272.200   \n",
       "224     East      Ohio      Istinye Park      3000.80     27087.400   \n",
       "201     West  Colorado      Istinye Park      1097.82      8814.015   \n",
       "11      West     Idaho      Zorlu Center       121.20       848.760   \n",
       "145     West    Oregon            Kanyon       650.56      4749.088   \n",
       "\n",
       "     Profit Margin  \n",
       "100      15.000000  \n",
       "109      20.000000  \n",
       "275       5.405804  \n",
       "305       5.005332  \n",
       "61       25.000000  \n",
       "129      25.000000  \n",
       "224       2.672621  \n",
       "201       2.865224  \n",
       "11        0.297030  \n",
       "145      30.000000  "
      ]
     },
     "execution_count": 77,
     "metadata": {},
     "output_type": "execute_result"
    }
   ],
   "source": [
    "top_10_invoices = df.nlargest(10, 'quantity')\n",
    "top_10_invoices"
   ]
  },
  {
   "cell_type": "markdown",
   "id": "c0dcf861-2b66-4157-a2c3-5933940128bc",
   "metadata": {},
   "source": [
    "### 10. Which payment method is most commonly used?"
   ]
  },
  {
   "cell_type": "code",
   "execution_count": 78,
   "id": "cdf5ccff-2db7-49d0-a1fd-02b331c7771d",
   "metadata": {},
   "outputs": [
    {
     "name": "stdout",
     "output_type": "stream",
     "text": [
      "Most used Payment method :  Cash\n"
     ]
    }
   ],
   "source": [
    "Most_used_Payment_method = df[\"payment_method\"].value_counts().idxmax()\n",
    "print(\"Most used Payment method : \", Most_used_Payment_method)"
   ]
  },
  {
   "cell_type": "markdown",
   "id": "c7323023-4f9b-42ee-9088-6de00054ca8f",
   "metadata": {},
   "source": [
    "### 11. Total Sales with respect to region?"
   ]
  },
  {
   "cell_type": "code",
   "execution_count": 79,
   "id": "7b9136f6-c0c1-4e77-b964-235683a876b2",
   "metadata": {},
   "outputs": [
    {
     "data": {
      "text/plain": [
       "region\n",
       "Central    58803471.74\n",
       "East       72280660.57\n",
       "South      40655491.64\n",
       "West       79825624.03\n",
       "Name: Total Sales, dtype: float64"
      ]
     },
     "execution_count": 79,
     "metadata": {},
     "output_type": "execute_result"
    }
   ],
   "source": [
    "total_sales_by_region = df.groupby('region')['Total Sales'].sum()\n",
    "total_sales_by_region"
   ]
  },
  {
   "cell_type": "markdown",
   "id": "fefb09f1-94fc-48b1-b692-cb218fba0e1f",
   "metadata": {},
   "source": [
    "### 12. Sort Malls with average sales higher to lower?"
   ]
  },
  {
   "cell_type": "code",
   "execution_count": 80,
   "id": "71ca8be3-f1d4-4f96-8f9f-a48143b35d6f",
   "metadata": {},
   "outputs": [
    {
     "name": "stdout",
     "output_type": "stream",
     "text": [
      "Shopping malls sorted by average sales shopping_mall\n",
      "Metrocity           2485.030133\n",
      "Metropol AVM        2497.777108\n",
      "Istinye Park        2523.186677\n",
      "Viaport Outlet      2523.835118\n",
      "Mall of Istanbul    2543.276766\n",
      "Kanyon              2550.618396\n",
      "Zorlu Center        2573.248351\n",
      "Name: Total Sales, dtype: float64\n"
     ]
    }
   ],
   "source": [
    "sorted_malls_by_avg_sales = df.groupby('shopping_mall')['Total Sales'].mean().sort_values()\n",
    "print(\"Shopping malls sorted by average sales\", sorted_malls_by_avg_sales)"
   ]
  },
  {
   "cell_type": "markdown",
   "id": "d514fb1f-9c86-4bfa-b6db-1d79a40fd0ff",
   "metadata": {},
   "source": [
    "### 13. Sort categories with the highest profit margins display in bar plot?\n",
    "\n",
    "Profit Margin=(Total Sales/Total Profit)×100"
   ]
  },
  {
   "cell_type": "code",
   "execution_count": 86,
   "id": "cfc9a5e8-ba3a-478c-9147-2c6427d647ed",
   "metadata": {},
   "outputs": [
    {
     "data": {
      "image/png": "[encoded data removed]",
      "text/plain": [
       "<Figure size 1000x500 with 1 Axes>"
      ]
     },
     "metadata": {},
     "output_type": "display_data"
    }
   ],
   "source": [
    "df['Profit Margin'] = (df['Total Profit'] / df['Total Sales']) * 100\n",
    "avg_profit_margin_by_category = df.groupby('category')['Profit Margin'].mean()\n",
    "sorted_categories_by_profit_margin = avg_profit_margin_by_category.sort_values(ascending=False)\n",
    "plt.figure(figsize=(10, 5))\n",
    "sorted_categories_by_profit_margin.plot(kind='bar', color='skyblue')\n",
    "plt.title(\"Categories with Highest Profit Margins\")\n",
    "plt.xlabel(\"Category\")\n",
    "plt.ylabel(\"Average Profit Margin (%)\")\n",
    "plt.show()\n"
   ]
  },
  {
   "cell_type": "markdown",
   "id": "037e054f-3fa4-4859-b51a-55adeb675558",
   "metadata": {},
   "source": [
    "### 14.  What is the total number of transactions per region for each payment method?"
   ]
  },
  {
   "cell_type": "code",
   "execution_count": 87,
   "id": "a4c0db7f-5169-4e42-8a69-d60f268342f1",
   "metadata": {},
   "outputs": [
    {
     "name": "stdout",
     "output_type": "stream",
     "text": [
      "Total number of transactions per region for each payment method:\n",
      "payment_method   Cash  Credit Card  Debit Card\n",
      "region                                        \n",
      "Central         10319         8140        4640\n",
      "East            12738         9817        5751\n",
      "South            7227         5698        3284\n",
      "West            14163        11276        6404\n"
     ]
    }
   ],
   "source": [
    "transactions_per_region_payment_method = df.groupby(['region', 'payment_method']).size().unstack(fill_value=0)\n",
    "\n",
    "print(\"Total number of transactions per region for each payment method:\")\n",
    "print(transactions_per_region_payment_method)\n"
   ]
  },
  {
   "cell_type": "markdown",
   "id": "3b048142-ea4e-4322-8964-48f1e95f91d7",
   "metadata": {},
   "source": [
    "### 15. How do sales in different categories compare between males and females?"
   ]
  },
  {
   "cell_type": "code",
   "execution_count": 90,
   "id": "1de240e5-be34-4489-bb44-1564e9db0aaf",
   "metadata": {
    "scrolled": true
   },
   "outputs": [
    {
     "name": "stdout",
     "output_type": "stream",
     "text": [
      "category      Books     Clothing   Cosmetics  Food & Beverage        Shoes  \\\n",
      "gender                                                                       \n",
      "Female    489420.75  68260097.84  4068073.66        505322.60  39425167.30   \n",
      "Male      345238.20  45754397.92  2728611.28        344233.37  27128284.17   \n",
      "\n",
      "category   Souvenir  Technology        Toys  \n",
      "gender                                       \n",
      "Female    382867.20  34669950.0  2416046.08  \n",
      "Male      252957.45  23230200.0  1564380.16  \n"
     ]
    },
    {
     "data": {
      "image/png": "[encoded data removed]",
      "text/plain": [
       "<Figure size 1200x600 with 1 Axes>"
      ]
     },
     "metadata": {},
     "output_type": "display_data"
    }
   ],
   "source": [
    "sales_by_gender_category = df.groupby(['gender', 'category'])['Total Sales'].sum().unstack()\n",
    "print(sales_by_gender_category)\n",
    "\n",
    "sales_by_gender_category.plot(kind='bar', figsize=(12, 6))\n",
    "plt.title(\"Sales in Different Categories Between Males and Females\")\n",
    "plt.xlabel(\"Gender\")\n",
    "plt.ylabel(\"Total Sales\")\n",
    "plt.show()\n"
   ]
  },
  {
   "cell_type": "code",
   "execution_count": null,
   "id": "916ed339-9dd6-43d4-a606-c155ecc9dde7",
   "metadata": {},
   "outputs": [],
   "source": []
  }
 ],
 "metadata": {
  "kernelspec": {
   "display_name": "Python 3 (ipykernel)",
   "language": "python",
   "name": "python3"
  },
  "language_info": {
   "codemirror_mode": {
    "name": "ipython",
    "version": 3
   },
   "file_extension": ".py",
   "mimetype": "text/x-python",
   "name": "python",
   "nbconvert_exporter": "python",
   "pygments_lexer": "ipython3",
   "version": "3.12.7"
  }
 },
 "nbformat": 4,
 "nbformat_minor": 5
}
