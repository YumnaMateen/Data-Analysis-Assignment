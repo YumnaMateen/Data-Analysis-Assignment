{
 "cells": [
  {
   "cell_type": "code",
   "execution_count": 1,
   "id": "10568bb2-8584-4182-9e18-6d34f09ac18f",
   "metadata": {},
   "outputs": [],
   "source": [
    "salaries = ['20k', '40k', '50k', '60k', '35k', '89k','40k']"
   ]
  },
  {
   "cell_type": "code",
   "execution_count": 2,
   "id": "6a15c0a7-d162-43b5-a4e2-4c05500b7c44",
   "metadata": {},
   "outputs": [
    {
     "data": {
      "text/plain": [
       "7"
      ]
     },
     "execution_count": 2,
     "metadata": {},
     "output_type": "execute_result"
    }
   ],
   "source": [
    "len(salaries)"
   ]
  },
  {
   "cell_type": "code",
   "execution_count": 3,
   "id": "882a1a7d-a99f-4673-b8c8-8e81506e2d49",
   "metadata": {},
   "outputs": [
    {
     "data": {
      "text/plain": [
       "'50k'"
      ]
     },
     "execution_count": 3,
     "metadata": {},
     "output_type": "execute_result"
    }
   ],
   "source": [
    "salaries[2]"
   ]
  },
  {
   "cell_type": "code",
   "execution_count": 4,
   "id": "1df73e63-e52d-48af-8c9b-43b2d499aee6",
   "metadata": {},
   "outputs": [
    {
     "data": {
      "text/plain": [
       "'40k'"
      ]
     },
     "execution_count": 4,
     "metadata": {},
     "output_type": "execute_result"
    }
   ],
   "source": [
    "salaries[-1]"
   ]
  },
  {
   "cell_type": "code",
   "execution_count": 5,
   "id": "2070eab1-e87b-4fa6-997c-0f7cbbdfb9c9",
   "metadata": {},
   "outputs": [
    {
     "data": {
      "text/plain": [
       "['50k', '60k', '35k']"
      ]
     },
     "execution_count": 5,
     "metadata": {},
     "output_type": "execute_result"
    }
   ],
   "source": [
    "salaries[2:5]"
   ]
  },
  {
   "cell_type": "code",
   "execution_count": 6,
   "id": "9dc4ae14-2644-44d4-bfb3-afed6caec926",
   "metadata": {},
   "outputs": [
    {
     "name": "stdout",
     "output_type": "stream",
     "text": [
      "['20k', '40k', '50k', '60k', '35k', '89k', '40k', '100k']\n"
     ]
    }
   ],
   "source": [
    "salaries.append('100k')\n",
    "print(salaries)"
   ]
  },
  {
   "cell_type": "code",
   "execution_count": 7,
   "id": "0e5d00f3-4171-49fc-b800-74296b727fcc",
   "metadata": {},
   "outputs": [
    {
     "name": "stdout",
     "output_type": "stream",
     "text": [
      "['20k', '40k', '50k', '60k', '35k', '89k', '40k', '100k', '120k']\n"
     ]
    }
   ],
   "source": [
    "salaries=salaries+['120k']\n",
    "print(salaries)"
   ]
  },
  {
   "cell_type": "code",
   "execution_count": 9,
   "id": "98e3cf23-91f8-48bc-9ffe-6bdecfcba7f4",
   "metadata": {},
   "outputs": [
    {
     "name": "stdout",
     "output_type": "stream",
     "text": [
      "['20k', '40k', '55k', '60k', '35k', '89k', '40k', '100k', '120k']\n"
     ]
    }
   ],
   "source": [
    "salaries[2]='55k'\n",
    "print(salaries)"
   ]
  },
  {
   "cell_type": "code",
   "execution_count": 11,
   "id": "4304eee5-b29b-4647-9c20-23e75a66bcf6",
   "metadata": {},
   "outputs": [
    {
     "data": {
      "text/plain": [
       "2"
      ]
     },
     "execution_count": 11,
     "metadata": {},
     "output_type": "execute_result"
    }
   ],
   "source": [
    "salaries.count('40k')"
   ]
  },
  {
   "cell_type": "code",
   "execution_count": 12,
   "id": "96511e24-aa4d-4a49-852f-f4a34182e1dc",
   "metadata": {},
   "outputs": [
    {
     "name": "stdout",
     "output_type": "stream",
     "text": [
      "['20k', '10k', '40k', '55k', '60k', '35k', '89k', '40k', '100k', '120k']\n"
     ]
    }
   ],
   "source": [
    "salaries=['20k','10k', '40k', '55k', '60k', '35k', '89k', '40k', '100k', '120k']\n",
    "print(salaries)"
   ]
  },
  {
   "cell_type": "code",
   "execution_count": 13,
   "id": "0701f69b-f36d-41b2-8bc6-3f7733943c6f",
   "metadata": {},
   "outputs": [
    {
     "name": "stdout",
     "output_type": "stream",
     "text": [
      "['120k', '100k', '40k', '89k', '35k', '60k', '55k', '40k', '10k', '20k']\n"
     ]
    }
   ],
   "source": [
    "salaries.reverse()\n",
    "print(salaries)"
   ]
  },
  {
   "cell_type": "code",
   "execution_count": 14,
   "id": "853a373b-86fc-481e-87c4-470d99d75f0f",
   "metadata": {},
   "outputs": [
    {
     "name": "stdout",
     "output_type": "stream",
     "text": [
      "['20k', '10k', '40k', '55k', '60k', '35k', '89k', '40k', '100k', '120k']\n"
     ]
    }
   ],
   "source": [
    "salaries=salaries[::-1]\n",
    "print(salaries)"
   ]
  },
  {
   "cell_type": "code",
   "execution_count": null,
   "id": "ea260804-e60e-4ccd-9e85-4266fa4baf2a",
   "metadata": {},
   "outputs": [],
   "source": []
  }
 ],
 "metadata": {
  "kernelspec": {
   "display_name": "Python 3 (ipykernel)",
   "language": "python",
   "name": "python3"
  },
  "language_info": {
   "codemirror_mode": {
    "name": "ipython",
    "version": 3
   },
   "file_extension": ".py",
   "mimetype": "text/x-python",
   "name": "python",
   "nbconvert_exporter": "python",
   "pygments_lexer": "ipython3",
   "version": "3.12.7"
  }
 },
 "nbformat": 4,
 "nbformat_minor": 5
}
