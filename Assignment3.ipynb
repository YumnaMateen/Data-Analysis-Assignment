{
 "cells": [
  {
   "cell_type": "markdown",
   "id": "d8fd5c16-00d9-4ca7-81d5-edf0931f052d",
   "metadata": {},
   "source": [
    "## Question#1\n",
    "Q1. Write program to check a person’s eligibility for a loan based on age, credit score, and income. This time, the\n",
    "eligibility criteria will be:\n",
    "\n",
    "The person must be 18 years or older. The person must have a credit score of 650 or higher. The person must have\n",
    "an annual income of at least 30000 dollars If the person has a credit score of 700 or higher, they may still be eligible\n",
    "with an income of 25000 dollars or more."
   ]
  },
  {
   "cell_type": "code",
   "execution_count": 1,
   "id": "3c70f208-c12d-4289-aa53-8fb2d2360621",
   "metadata": {},
   "outputs": [
    {
     "name": "stdin",
     "output_type": "stream",
     "text": [
      "Enter your age: 23\n",
      "Enter your credit score: 670\n",
      "Enter your annual income: 26000\n"
     ]
    },
    {
     "name": "stdout",
     "output_type": "stream",
     "text": [
      "You are not eligible for loan\n"
     ]
    }
   ],
   "source": [
    "age=int(input(\"Enter your age:\"))\n",
    "if age >= 18:\n",
    "    credit_score=int(input(\"Enter your credit score:\"))\n",
    "    annual_income=int(input(\"Enter your annual income:\"))\n",
    "    if credit_score >=650 and annual_income>=30000:\n",
    "        print(\"You are eligible for loan\")\n",
    "    elif credit_score >=700 and annual_income>=25000:\n",
    "        print(\"You are eligible for loan\")\n",
    "    else: print(\"You are not eligible for loan\")\n",
    "else:\n",
    "    print(\"You are not eligible for loan\")"
   ]
  },
  {
   "cell_type": "markdown",
   "id": "a309b61d-259a-4b39-b12f-12bedbd1f286",
   "metadata": {},
   "source": [
    "## Question#2\n",
    "Q2. Write a Python program that checks if a person is an adult (age ≥ 18).\n",
    "\n",
    "Take the age as input.\n",
    "If the person is underage (age &lt; 18), show message: &quot;You are underage&quot; and don&#39;t ask for experience.\n",
    "\n",
    "If the person is an adult, take years of experience as input and print:\n",
    "You have a lot of experience. (10+ years)\n",
    "You are relatively new. (2-4 years)\n",
    "You are just starting out.(less than 2 years)"
   ]
  },
  {
   "cell_type": "code",
   "execution_count": 1,
   "id": "78ac4b1c-72ff-4619-99b8-a4647bd2e819",
   "metadata": {},
   "outputs": [
    {
     "name": "stdin",
     "output_type": "stream",
     "text": [
      "Enter your age: 23\n",
      "enter your years of experience: 1\n"
     ]
    },
    {
     "name": "stdout",
     "output_type": "stream",
     "text": [
      "You are just starting out.\n"
     ]
    }
   ],
   "source": [
    "age=int(input(\"Enter your age:\"))\n",
    "if age >= 18:\n",
    "    Years_of_experience= int(input(\"enter your years of experience:\"))\n",
    "   \n",
    "    if Years_of_experience <2:\n",
    "        print(\"You are just starting out.\")\n",
    "    elif 2>= Years_of_experience <=4:\n",
    "        print(\"You are relatively new.\")\n",
    "    elif 5<= Years_of_experience <=9:\n",
    "        print(\"You have moderate experience.\")\n",
    "    elif Years_of_experience >=10:\n",
    "        print(\"You have a lot of experience.\")\n",
    "else: print(\"You are underage\")"
   ]
  },
  {
   "cell_type": "markdown",
   "id": "785b89d8-30ae-4d91-94ed-9cf1634af911",
   "metadata": {},
   "source": [
    "## Question#3\n",
    "Write a program to explore below variables\n",
    "\n",
    "a) Print their memory address (to check if python assigns same address of different variables having same element)\n",
    "b) Find memory size and append them in a list, use this list to find data type having least memory size\n",
    "c) Print final name of data type which has lowest memory\n",
    "Result will help a programmer to decide which variable is storing less memory and variable locations"
   ]
  },
  {
   "cell_type": "code",
   "execution_count": 8,
   "id": "6815e06e-efe1-4d1a-9134-4fb0540a446d",
   "metadata": {},
   "outputs": [
    {
     "name": "stdout",
     "output_type": "stream",
     "text": [
      "memory address of variable 1 is 140709989988600\n",
      "memory address of variable 2 is 140709989988600\n",
      "memory address of variable 3 is 140709989988600\n",
      "Memory size of int_var: 28 bytes, Address: 140709989988600\n",
      "Memory size of str_var: 44 bytes, Address: 2349818061392\n",
      "Memory size of float_var: 24 bytes, Address: 2349852385872\n",
      "Memory size of list_var: 64 bytes, Address: 2349854217408\n",
      "Data type with smallest memory size: float ( 24 bytes)\n"
     ]
    }
   ],
   "source": [
    "var_1=123\n",
    "var_2=123\n",
    "var_3=123\n",
    "print(\"memory address of variable 1 is\", id(var_1))\n",
    "print(\"memory address of variable 2 is\", id(var_2))\n",
    "print(\"memory address of variable 3 is\", id(var_3))\n",
    "\n",
    "import sys\n",
    "\n",
    "int_var = 123\n",
    "str_var = \"123\"\n",
    "float_var = 123.0\n",
    "list_var = [\"123\"]\n",
    "\n",
    "int_size = sys.getsizeof(int_var)\n",
    "str_size = sys.getsizeof(str_var)\n",
    "float_size = sys.getsizeof(float_var)\n",
    "list_size = sys.getsizeof(list_var)\n",
    "\n",
    "print(\"Memory size of int_var:\", int_size, \"bytes, Address:\", id(int_var))\n",
    "print(\"Memory size of str_var:\", str_size, \"bytes, Address:\", id(str_var))\n",
    "print(\"Memory size of float_var:\", float_size, \"bytes, Address:\", id(float_var))\n",
    "print(\"Memory size of list_var:\", list_size, \"bytes, Address:\", id(list_var))\n",
    "\n",
    "memory_sizes = []\n",
    "memory_sizes.append(('int', int_size))\n",
    "memory_sizes.append(('str', str_size))\n",
    "memory_sizes.append(('float', float_size))\n",
    "memory_sizes.append(('list', list_size))\n",
    "\n",
    "smallest_type = memory_sizes[0][0]\n",
    "smallest_size = memory_sizes[0][1]\n",
    "\n",
    "if memory_sizes[1][1] < smallest_size:\n",
    "    smallest_size = memory_sizes[1][1]\n",
    "    smallest_type = memory_sizes[1][0]\n",
    "\n",
    "if memory_sizes[2][1] < smallest_size:\n",
    "    smallest_size = memory_sizes[2][1]\n",
    "    smallest_type = memory_sizes[2][0]\n",
    "\n",
    "if memory_sizes[3][1] < smallest_size:\n",
    "    smallest_size = memory_sizes[3][1]\n",
    "    smallest_type = memory_sizes[3][0]\n",
    "\n",
    "\n",
    "print(\"Data type with smallest memory size:\", smallest_type, \"(\", smallest_size, \"bytes)\")"
   ]
  },
  {
   "cell_type": "markdown",
   "id": "810735f2-5e95-4947-a507-8e212ecf3ed2",
   "metadata": {},
   "source": [
    "## Question#4\n",
    "Write a Python program that asks the user to enter an email address. The program should check if the email\n",
    "contains the characters @ and (ignoring case). If either character is present, print Email format is valid.\n",
    "Otherwise, print Invalid email format."
   ]
  },
  {
   "cell_type": "code",
   "execution_count": 5,
   "id": "ccb2545d-1dc6-452f-8e69-10daf143c922",
   "metadata": {},
   "outputs": [
    {
     "name": "stdin",
     "output_type": "stream",
     "text": [
      "Enter your email address yumnamateen001@gmail.com\n"
     ]
    },
    {
     "name": "stdout",
     "output_type": "stream",
     "text": [
      "Email format is valid.\n"
     ]
    }
   ],
   "source": [
    "email=input(\"Enter your email address\")\n",
    "if \"@\" in email and \".\" in email:\n",
    "    print(\"Email format is valid.\")\n",
    "else:\n",
    "    print(\"Invalid email format.\")"
   ]
  },
  {
   "cell_type": "markdown",
   "id": "d4419ee7-6f85-44c9-8f82-6efaa91ea160",
   "metadata": {},
   "source": [
    "## Question#5\n",
    "Write a python program to know data type of each element stored in a tuple, append the data types in a list.\n",
    "Show final output in a list as data types of tuple elements"
   ]
  },
  {
   "cell_type": "code",
   "execution_count": 6,
   "id": "fa020960-1a32-4c2e-af78-da1e90ba6d6c",
   "metadata": {},
   "outputs": [
    {
     "name": "stdout",
     "output_type": "stream",
     "text": [
      "Data types of tuple elements: ['int', 'float', 'str', 'list', 'tuple']\n"
     ]
    }
   ],
   "source": [
    "x = (11, 22.333, 'apple', [1,2,3], ('a', 'b'))\n",
    "data_types = []\n",
    "data_types.append(type(x[0]).__name__)\n",
    "data_types.append(type(x[1]).__name__)\n",
    "data_types.append(type(x[2]).__name__)\n",
    "data_types.append(type(x[3]).__name__)\n",
    "data_types.append(type(x[4]).__name__)\n",
    "\n",
    "print(\"Data types of tuple elements:\", data_types)"
   ]
  },
  {
   "cell_type": "markdown",
   "id": "9a724028-636a-4fac-bd9e-fc8f7c2437eb",
   "metadata": {},
   "source": [
    "## Question_6\n",
    "Write a Python program that:\n",
    "Checks if a given username exists in a list of active users.\n",
    "Verifies if the user is the admin using identity operators.\n",
    "Hints:\n",
    "Use a list of tuples where each tuple contains a username and role\n",
    "[(alice, admin),\n",
    "(bob,user),\n",
    "charlie,moderator)]\n",
    "Use the in operator to check if the username exists in the list.\n",
    "Use the is operator to check if the user is the admin (admin is a specific reference, e.g., (alice, admin))."
   ]
  },
  {
   "cell_type": "code",
   "execution_count": 20,
   "id": "0276c2b3-a5c4-4ddf-af11-abeaa9bd69fe",
   "metadata": {},
   "outputs": [
    {
     "name": "stdin",
     "output_type": "stream",
     "text": [
      "Enter a username to check:  alice\n"
     ]
    },
    {
     "name": "stdout",
     "output_type": "stream",
     "text": [
      "Username: 'alice', Role: 'admin'\n",
      "'alice' is the admin.\n"
     ]
    }
   ],
   "source": [
    "active_users = [\n",
    "    (\"alice\", \"admin\"),\n",
    "    (\"bob\", \"user\"),\n",
    "    (\"charlie\", \"moderator\")\n",
    "]\n",
    "username = input(\"Enter a username to check: \")\n",
    "\n",
    "user_entry = None\n",
    "if username == \"alice\":\n",
    "    user_entry = active_users[0]\n",
    "elif username == \"bob\":\n",
    "    user_entry = active_users[1]\n",
    "elif username == \"charlie\":\n",
    "    user_entry = active_users[2]\n",
    "\n",
    "if user_entry is not None:\n",
    "    print(\"Username: '\" + username + \"', Role: '\" + user_entry[1] + \"'\")\n",
    "    if user_entry is active_users[0]:\n",
    "        print(\"'\" + username + \"' is the admin.\")\n",
    "    else:\n",
    "        print(\"'\" + username + \"' is not the admin.\")\n",
    "else:\n",
    "    print(\"'\" + username + \"' not found in the list.\")\n"
   ]
  },
  {
   "cell_type": "markdown",
   "id": "838ea1f2-ab81-4884-9bc0-193259c4d167",
   "metadata": {},
   "source": [
    "## Question_7\n",
    "Q7. person1 has same family as of person2, write a program to print relation between person1 and person2, if their\n",
    "data is [father name,;mother name,district,family number] same (Print relation Siblings) also check person1\n",
    "data with person3 which is cousin of person1 (Print relation Cousin)\n",
    "Hint:\n",
    "Use identity operator"
   ]
  },
  {
   "cell_type": "code",
   "execution_count": 21,
   "id": "52c325af-50c7-4cb4-85fc-db34d20734dd",
   "metadata": {},
   "outputs": [
    {
     "name": "stdout",
     "output_type": "stream",
     "text": [
      "person1 and person2 are siblings.\n",
      "person1 and person3 are cousins\n"
     ]
    }
   ],
   "source": [
    "person1=['Michael', 'Sarah', 'East', '0900']\n",
    "person2= person1\n",
    "person3=['Zach', 'Sofia', 'West', '0980']\n",
    "if person1 is person2:\n",
    "    print(\"person1 and person2 are siblings.\")\n",
    "else:\n",
    "    print(\"person1 and person2 are not related.\")\n",
    "if person1 is not person3:\n",
    "    print(\"person1 and person3 are cousins\")"
   ]
  },
  {
   "cell_type": "markdown",
   "id": "b65099d2-b100-45ca-9b99-c8509eb8cf66",
   "metadata": {},
   "source": [
    "## Question_8\n",
    "Write a Python program to store and display a book&#39;s title, author, year of publication, and price using a tuple.\n",
    "\n",
    "Instructions:\n",
    "Create a tuple to store the book details.\n",
    "Ask the user for the book&#39;s title, author, year, and price.\n",
    "Display the stored book information."
   ]
  },
  {
   "cell_type": "code",
   "execution_count": 9,
   "id": "c1707ab7-7891-4443-a634-0dd288e6b869",
   "metadata": {},
   "outputs": [
    {
     "name": "stdin",
     "output_type": "stream",
     "text": [
      "Enter book's title The kite runner\n",
      "Enter Book's Author Khaled Husaaini\n",
      "Enter year of publication 2007\n",
      "Enter price 450\n"
     ]
    },
    {
     "name": "stdout",
     "output_type": "stream",
     "text": [
      "Book name: The kite runner Author name: Khaled Husaaini Publication Year: 2007 Price: 450\n"
     ]
    }
   ],
   "source": [
    "Book_Title=input(\"Enter book's title\")\n",
    "Book_Author=input(\"Enter Book's Author\")\n",
    "Year_of_publication=input(\"Enter year of publication\")\n",
    "Price=input(\"Enter price\")\n",
    "print(\"Book name:\", Book_Title, \"Author name:\", Book_Author, \"Publication Year:\", Year_of_publication, \"Price:\", Price)"
   ]
  },
  {
   "cell_type": "markdown",
   "id": "2264b9b9-3f23-4ee8-91e3-435a6235801e",
   "metadata": {},
   "source": [
    "## Question#9\n",
    "Write a program to check if a user’s chosen subject is available in the list of offered subjects.\n",
    "Instructions:\n",
    "Given a list of subjects, ask the user to input a subject.\n",
    "Display whether the subject is available or not."
   ]
  },
  {
   "cell_type": "code",
   "execution_count": 11,
   "id": "2d169fd5-1b14-4f68-a806-7a5805460c03",
   "metadata": {},
   "outputs": [
    {
     "name": "stdin",
     "output_type": "stream",
     "text": [
      "Enter your subject of interest Psychology\n"
     ]
    },
    {
     "name": "stdout",
     "output_type": "stream",
     "text": [
      "subject is available\n"
     ]
    }
   ],
   "source": [
    "subject_list=[\"english\", \"mathematics\", \"physics\", \"chemistry\", \"urdu\", \"psychology\", \"criminology\"]\n",
    "x=input(\"Enter your subject of interest\").lower()\n",
    "if x in subject_list:\n",
    "    print(\"subject is available\")\n",
    "else:\n",
    "    print(\"subject is not available\")"
   ]
  },
  {
   "cell_type": "markdown",
   "id": "f40374aa-978c-466c-a395-54ebccec284c",
   "metadata": {},
   "source": [
    "## Question#10\n",
    "Write a Python program that performs the following tasks using tuple methods\n",
    "Create a tuple with multiple integer values, including duplicates.\n",
    "Prompt the user to input a number and find the index of its first occurrence in the tuple.\n",
    "Ask the user for another number and count how many times it appears in the tuple.\n",
    "Display appropriate messages based on the results"
   ]
  },
  {
   "cell_type": "code",
   "execution_count": 9,
   "id": "104f4f2c-9246-4782-8f22-fcac6d0819d7",
   "metadata": {},
   "outputs": [
    {
     "name": "stdin",
     "output_type": "stream",
     "text": [
      "Enter a number to find its first occurrence in the tuple:  7\n"
     ]
    },
    {
     "name": "stdout",
     "output_type": "stream",
     "text": [
      "The first occurrence of 7 is at index 10\n"
     ]
    },
    {
     "name": "stdin",
     "output_type": "stream",
     "text": [
      "Enter another number to count its occurrences in the tuple:  6\n"
     ]
    },
    {
     "name": "stdout",
     "output_type": "stream",
     "text": [
      "The number 6 appears 1 time(s) in the tuple.\n"
     ]
    }
   ],
   "source": [
    "tuple_var = (1, 5, 2, 2, 5, 3, 8, 2, 4, 6, 7)\n",
    "\n",
    "number1 = int(input(\"Enter a number to find its first occurrence in the tuple: \"))\n",
    "\n",
    "if number1 in tuple_var:\n",
    "    first_index = tuple_var.index(number1)\n",
    "    print(\"The first occurrence of\", number1, \"is at index\", first_index)\n",
    "else:\n",
    "    print(\"The number\", number1, \"is not found in the tuple.\")\n",
    "\n",
    "number2 = int(input(\"Enter another number to count its occurrences in the tuple: \"))\n",
    "\n",
    "count = tuple_var.count(number2)\n",
    "print(\"The number\", number2, \"appears\", count, \"time(s) in the tuple.\")"
   ]
  },
  {
   "cell_type": "markdown",
   "id": "744a610b-d7a6-4c88-b4da-61984ae50518",
   "metadata": {},
   "source": [
    "## Question#11\n",
    "Question for Hard working learners (Not Mandatory)\n",
    "Write a Python program that asks the user to enter the current temperature in Celsius and checks whether its\n",
    "freezing, normal, or hot based on predefined temperature values.\n",
    "\n",
    "Assignment Requirements:\n",
    "Input: The user will be asked to enter the current temperature in Celsius.\n",
    "Predefined values:\n",
    "Freezing: -5\n",
    "Normal: 25\n",
    "Hot: 40"
   ]
  },
  {
   "cell_type": "code",
   "execution_count": 22,
   "id": "cc9007fa-974d-4b75-8cb8-759c924fc3c0",
   "metadata": {},
   "outputs": [
    {
     "name": "stdin",
     "output_type": "stream",
     "text": [
      "Enter current temperature in celsius 60\n"
     ]
    },
    {
     "name": "stdout",
     "output_type": "stream",
     "text": [
      "its hot temperature\n"
     ]
    }
   ],
   "source": [
    "current_temp=float(input(\"Enter current temperature in celsius\"))\n",
    "if current_temp <= -5:\n",
    "    print(\"its freezing\")\n",
    "elif current_temp ==25:\n",
    "    print(\"its normal temperature\")\n",
    "elif current_temp >= 40:\n",
    "    print(\"its hot temperature\")"
   ]
  },
  {
   "cell_type": "code",
   "execution_count": null,
   "id": "660e0f6f-330a-46c5-bc9d-d982b9ca930b",
   "metadata": {},
   "outputs": [],
   "source": []
  }
 ],
 "metadata": {
  "kernelspec": {
   "display_name": "Python 3 (ipykernel)",
   "language": "python",
   "name": "python3"
  },
  "language_info": {
   "codemirror_mode": {
    "name": "ipython",
    "version": 3
   },
   "file_extension": ".py",
   "mimetype": "text/x-python",
   "name": "python",
   "nbconvert_exporter": "python",
   "pygments_lexer": "ipython3",
   "version": "3.12.7"
  }
 },
 "nbformat": 4,
 "nbformat_minor": 5
}
