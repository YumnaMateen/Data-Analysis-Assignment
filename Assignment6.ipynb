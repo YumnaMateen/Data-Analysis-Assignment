{
 "cells": [
  {
   "cell_type": "markdown",
   "id": "2e104a57-9831-4d07-aea1-c44f9c8ba510",
   "metadata": {},
   "source": [
    "Question 1:\n",
    "In a transportation system, we have two classes:\n",
    " ElectricVehicle: A class that has a method charge() to charge the vehicle.\n",
    " GasolineVehicle: A class that has a method fuel_up() to refuel the vehicle.\n",
    "Create a class HybridCar that inherits from both ElectricVehicle and GasolineVehicle. The HybridCar\n",
    "class should have a method drive() that prints a message showing the car is being driven. Instantiate\n",
    "an object of class HybridCar and demonstrate the usage of charge(), fuel_up(), and drive().\n",
    "Expected Output:\n",
    " Charging the electric vehicle.\n",
    " Filling up the gasoline tank.\n",
    " Driving the hybrid car."
   ]
  },
  {
   "cell_type": "code",
   "execution_count": 5,
   "id": "d7947442-f1c3-407a-830e-536a983fed38",
   "metadata": {},
   "outputs": [
    {
     "name": "stdout",
     "output_type": "stream",
     "text": [
      "Charging the electric vehicle.\n",
      "Filling up the gasoline tank.\n",
      "Driving the hybrid car.\n"
     ]
    }
   ],
   "source": [
    "class ElectricVehicle:\n",
    "    def charge(self):\n",
    "        print(\"Charging the electric vehicle.\")\n",
    "class GasolineVehicle:\n",
    "    def fuel_up(self):\n",
    "        print(\"Filling up the gasoline tank.\")\n",
    "\n",
    "class HybridCar(ElectricVehicle, GasolineVehicle):\n",
    "    def drive(self):\n",
    "        print(\"Driving the hybrid car.\")\n",
    "Hybrid_car= HybridCar()\n",
    "Hybrid_car.charge()\n",
    "Hybrid_car.fuel_up()\n",
    "Hybrid_car.drive()"
   ]
  },
  {
   "cell_type": "markdown",
   "id": "74b517db-c4f2-4d23-a94d-0cddfce33ccf",
   "metadata": {},
   "source": [
    "Question 2:\n",
    "Create a class Animal with a method make_sound(), which prints &quot;Animal makes a sound&quot;. Then,\n",
    "create two subclasses:\n",
    " Lion: Override the make_sound() method to print &quot;Roar&quot;.\n",
    " Cat: Override the make_sound() method to print &quot;Meow&quot;.\n",
    "Demonstrate polymorphism by calling make_sound() on instances of Lion and Cat."
   ]
  },
  {
   "cell_type": "code",
   "execution_count": 9,
   "id": "e68d0846-8dd0-414e-94a3-9cb383f71dd9",
   "metadata": {},
   "outputs": [
    {
     "name": "stdout",
     "output_type": "stream",
     "text": [
      "Roar\n",
      "Meow\n"
     ]
    }
   ],
   "source": [
    "class Animal:\n",
    "    def make_sound(self):\n",
    "        print(\"Animal makes a sound\")\n",
    "class Lion(Animal):\n",
    "    def make_sound(self):\n",
    "        print(\"Roar\")\n",
    "class cat(Animal):\n",
    "    def make_sound(self):\n",
    "        print(\"Meow\")\n",
    "lion = Lion()\n",
    "Cat = cat()\n",
    "lion.make_sound()  \n",
    "Cat.make_sound()\n",
    "    "
   ]
  },
  {
   "cell_type": "markdown",
   "id": "534ced72-f621-46aa-9dba-813571b0d11d",
   "metadata": {},
   "source": [
    "Question 3:\n",
    "Create an abstract class SmartHomeDevice with two abstract methods:\n",
    " turn_on() (to turn the device on)\n",
    " turn_off() (to turn the device off)\n",
    "Then, create a Light class that inherits from SmartHomeDevice. Implement the methods turn_on()\n",
    "and turn_off() for a light device. The turn_on() method should print &quot;Light is ON&quot;, and the turn_off()\n",
    "method should print &quot;Light is OFF&quot;.\n",
    "Write a Python program to control the light device in a smart home.\n",
    "Expected Output:\n",
    " Turning on the light...\n",
    " Light is ON\n",
    " Turning off the light...\n",
    " Light is OFF"
   ]
  },
  {
   "cell_type": "code",
   "execution_count": 10,
   "id": "155ed14b-8a61-47ee-92e9-9d559be61104",
   "metadata": {},
   "outputs": [
    {
     "name": "stdout",
     "output_type": "stream",
     "text": [
      "turning on the light\n",
      "Light is ON\n",
      "turning off the light\n",
      "Light is OFF\n"
     ]
    }
   ],
   "source": [
    "class SmartHomeDevice:\n",
    "    def turn_on(self):\n",
    "        print(\"\")\n",
    "    def turn_off():\n",
    "        print(\"\")\n",
    "class Light(SmartHomeDevice):\n",
    "    def turn_on(self):\n",
    "        print(\"Light is ON\")\n",
    "    def turn_off(self):\n",
    "        print(\"Light is OFF\")\n",
    "light = Light()\n",
    "print(\"turning on the light\")\n",
    "light.turn_on()\n",
    "print(\"turning off the light\")\n",
    "light.turn_off()"
   ]
  },
  {
   "cell_type": "markdown",
   "id": "1a677207-2e5a-48c9-991b-403ea12c7900",
   "metadata": {},
   "source": [
    "Question 4:\n",
    "Create a class Greeting with a method greet() that can handle different numbers of arguments.\n",
    " If no argument is passed, it should print &quot;Hello!&quot;.\n",
    " If one argument (a name) is passed, it should print &quot;Hello, !&quot;.\n",
    " If two arguments (a name and a greeting) are passed, it should print the greeting with the\n",
    "name (e.g., &quot;Good morning, !&quot;).\n",
    "Simulate method overloading using default arguments or variable-length arguments, and\n",
    "demonstrate the polymorphic behavior by calling greet() with different numbers of arguments.\n",
    "Expected Output:\n",
    " Hello!\n",
    " Hello, John!\n",
    " Good morning, John!"
   ]
  },
  {
   "cell_type": "code",
   "execution_count": 13,
   "id": "3a7d8dab-c8be-4fcf-afb9-bcdfd06d8ed4",
   "metadata": {},
   "outputs": [
    {
     "name": "stdout",
     "output_type": "stream",
     "text": [
      "Hello!\n",
      "Ali\n",
      "Ali,Good  Morning!\n"
     ]
    }
   ],
   "source": [
    "class Greeting:\n",
    "    def greet(self, *args):\n",
    "        if len(args) == 0:\n",
    "            print(\"Hello!\")\n",
    "        elif len(args) ==1:\n",
    "            print(f'{args[0]}')\n",
    "        elif len(args) == 2:\n",
    "            print(f\"{args[0]},{args[1]}!\")\n",
    "greeting = Greeting()\n",
    "greeting.greet()\n",
    "greeting.greet(\"Ali\")\n",
    "greeting.greet(\"Ali\", \"Good  Morning\")\n",
    "        "
   ]
  },
  {
   "cell_type": "markdown",
   "id": "dfc684a4-4f06-408b-af6b-b855760e5322",
   "metadata": {},
   "source": [
    "Question 5:\n",
    "Create a class CarRental to manage the rental of cars.\n",
    " The class should have private attributes for the car&#39;s name, price per day, and the number of\n",
    "rental days.\n",
    " Create a method to calculate the total rental cost and a method to set the rental days.\n",
    " Use getter and setter methods for modifying and accessing the car&#39;s information.\n",
    "Demonstrate encapsulation by creating an object of CarRental and calculating the total rental cost.\n",
    "Expected Output:\n",
    " Car Name: Toyota Camry\n",
    " Price Per Day: $50\n",
    " Rental Days: 5\n",
    " Total Rental Cost: $250"
   ]
  },
  {
   "cell_type": "code",
   "execution_count": 22,
   "id": "f6b8897b-a00b-4043-8b0b-582c418bae6f",
   "metadata": {
    "scrolled": true
   },
   "outputs": [
    {
     "name": "stdout",
     "output_type": "stream",
     "text": [
      "Car Name: Toyota Camry\n",
      "Price Per Day: 250\n",
      "Total Rental Cost: 750\n"
     ]
    }
   ],
   "source": [
    "class CarRental:\n",
    "    def __init__(self, name, price_per_day):\n",
    "        self.__name = name \n",
    "        self.__price_per_day = price_per_day  \n",
    "        self.__rental_days = 0 \n",
    "\n",
    "    def get_name(self):\n",
    "        return self.__name\n",
    "\n",
    "    def set_name(self, name):\n",
    "        self.__name = name\n",
    "\n",
    "    def get_price_per_day(self):\n",
    "        return self.__price_per_day\n",
    "\n",
    "    def set_price_per_day(self, price):\n",
    "        self.__price_per_day = price\n",
    "\n",
    "    def get_rental_days(self):\n",
    "        return self.__rental_days\n",
    "\n",
    "    def set_rental_days(self, days):\n",
    "        self.__rental_days = days\n",
    "\n",
    "    def calculate_total_rental_cost(self):\n",
    "        return self.__price_per_day * self.__rental_days\n",
    "\n",
    "car_rental = CarRental(\"Toyota Camry\", 250)\n",
    "\n",
    "print(f\"Car Name: {car_rental.get_name()}\")\n",
    "print(f\"Price Per Day: {car_rental.get_price_per_day()}\")\n",
    "\n",
    "car_rental.set_rental_days(3)  \n",
    "\n",
    "total_cost = car_rental.calculate_total_rental_cost()\n",
    "print(f\"Total Rental Cost: {total_cost}\")"
   ]
  },
  {
   "cell_type": "code",
   "execution_count": null,
   "id": "6f420a68-0441-4136-89e5-e2f40cc86792",
   "metadata": {},
   "outputs": [],
   "source": []
  }
 ],
 "metadata": {
  "kernelspec": {
   "display_name": "Python 3 (ipykernel)",
   "language": "python",
   "name": "python3"
  },
  "language_info": {
   "codemirror_mode": {
    "name": "ipython",
    "version": 3
   },
   "file_extension": ".py",
   "mimetype": "text/x-python",
   "name": "python",
   "nbconvert_exporter": "python",
   "pygments_lexer": "ipython3",
   "version": "3.12.7"
  }
 },
 "nbformat": 4,
 "nbformat_minor": 5
}
