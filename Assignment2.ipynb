{
 "cells": [
  {
   "cell_type": "markdown",
   "id": "7530cee8-450b-4553-9271-6c30c630d016",
   "metadata": {},
   "source": [
    "## Question#1"
   ]
  },
  {
   "cell_type": "code",
   "execution_count": 2,
   "id": "06a23e17-26d6-44b6-8660-dce56dd9e7ed",
   "metadata": {},
   "outputs": [
    {
     "name": "stdin",
     "output_type": "stream",
     "text": [
      "Enter your age: 6\n"
     ]
    },
    {
     "name": "stdout",
     "output_type": "stream",
     "text": [
      "Child\n"
     ]
    }
   ],
   "source": [
    "age=int(input(\"Enter your age:\"))\n",
    "if age < 0: \n",
    "    print(\"invalid\") \n",
    "elif 0 <= age <= 12: \n",
    "    print(\"Child\") \n",
    "elif 13<= age <=19:\n",
    "    print(\"Teenager\")\n",
    "elif 20<= age <=64:\n",
    "    print(\"Adult\")\n",
    "elif age >=65:\n",
    "    print(\"Senior\")"
   ]
  },
  {
   "cell_type": "markdown",
   "id": "dae512b8-13d3-4d63-b882-0d52b336a29e",
   "metadata": {},
   "source": [
    "## Question#2"
   ]
  },
  {
   "cell_type": "code",
   "execution_count": 5,
   "id": "a5452ff5-d6e6-42f9-bf72-802969ac804b",
   "metadata": {},
   "outputs": [
    {
     "name": "stdin",
     "output_type": "stream",
     "text": [
      "Enter your membership status: regular\n",
      "Enter purchase amount: 1290\n"
     ]
    },
    {
     "name": "stdout",
     "output_type": "stream",
     "text": [
      "Not eligible for discount\n"
     ]
    }
   ],
   "source": [
    "membership_status=input(\"Enter your membership status:\")\n",
    "purchase_amount=float(input(\"Enter purchase amount:\"))\n",
    "if membership_status==\"premium\" and purchase_amount>=1000:\n",
    "    print(\"Eligible for discount\")\n",
    "\n",
    "elif membership_status==\"regular\" and purchase_amount>=2000:\n",
    "    print(\"Eligible for discount\")\n",
    "else: print(\"Not eligible for discount\")"
   ]
  },
  {
   "cell_type": "markdown",
   "id": "1737e056-815a-4d97-8f99-771afd6c8e99",
   "metadata": {},
   "source": [
    "## Question#3"
   ]
  },
  {
   "cell_type": "code",
   "execution_count": 21,
   "id": "74c7669d-39a2-45ec-88c2-2d5023452598",
   "metadata": {},
   "outputs": [
    {
     "name": "stdin",
     "output_type": "stream",
     "text": [
      "Enter your age: 23\n",
      "Enter your citizenship status: citizen\n"
     ]
    },
    {
     "name": "stdout",
     "output_type": "stream",
     "text": [
      "Eligible to vote\n"
     ]
    }
   ],
   "source": [
    "age=int(input(\"Enter your age:\"))\n",
    "citizenship_status=input(\"Enter your citizenship status:\")\n",
    "if age >=18 and citizenship_status==\"citizen\":\n",
    "    print(\"Eligible to vote\")\n",
    "elif age >=16 and citizenship_status==\"citizen of special region\":\n",
    "    print(\"Eligible to vote\")\n",
    "else: print(\"You are not eligible\")"
   ]
  },
  {
   "cell_type": "markdown",
   "id": "f002272a-31e0-4a28-b0fb-c36325c5865d",
   "metadata": {},
   "source": [
    "## Question#4"
   ]
  },
  {
   "cell_type": "code",
   "execution_count": 4,
   "id": "e6691fb6-54d1-494b-9452-7d181e7a895f",
   "metadata": {},
   "outputs": [
    {
     "name": "stdin",
     "output_type": "stream",
     "text": [
      "Enter employee performance rating: good\n",
      "Enter years of service: 5\n"
     ]
    },
    {
     "name": "stdout",
     "output_type": "stream",
     "text": [
      "Not eligible for bonus\n"
     ]
    }
   ],
   "source": [
    "Employee_Performance_rating=input(\"Enter employee performance rating:\")\n",
    "Years_of_service=int(input(\"Enter years of service:\"))\n",
    "if Years_of_service>=5 and Employee_Performance_rating.lower()==\"excellent\":\n",
    "    print(\"Eligible for bonus\")\n",
    "elif  Years_of_service>=10 and Employee_Performance_rating.lower()==\"good\":\n",
    "    print(\"Eligible for bonus\")\n",
    "elif Years_of_service>=15 and Employee_Performance_rating.lower()==\"satisfactory\":\n",
    "   print(\"Eligible for bonus\") \n",
    "else: \n",
    "    print(\"Not eligible for bonus\")"
   ]
  },
  {
   "cell_type": "markdown",
   "id": "d9c9f1c5-bdd7-4e5e-b223-08477d78f44c",
   "metadata": {},
   "source": [
    "## Question#5"
   ]
  },
  {
   "cell_type": "code",
   "execution_count": 6,
   "id": "c84eaee9-13bf-4cf9-b582-2edc193b99ed",
   "metadata": {},
   "outputs": [
    {
     "name": "stdout",
     "output_type": "stream",
     "text": [
      "I'm_learning_Python_programming\n"
     ]
    }
   ],
   "source": [
    "text = \"I'm learning Python programming\"\n",
    "updated_text=text.replace(\" \", \"_\")\n",
    "print(updated_text)"
   ]
  },
  {
   "cell_type": "code",
   "execution_count": 9,
   "id": "8246a535-6733-4889-a49a-061a6e92dcfd",
   "metadata": {},
   "outputs": [
    {
     "data": {
      "text/plain": [
       "3"
      ]
     },
     "execution_count": 9,
     "metadata": {},
     "output_type": "execute_result"
    }
   ],
   "source": [
    "updated_text.count(\"_\")"
   ]
  },
  {
   "cell_type": "code",
   "execution_count": 10,
   "id": "751e7f38-9c0a-4cac-aae2-28be6a7267e9",
   "metadata": {},
   "outputs": [
    {
     "data": {
      "text/plain": [
       "3"
      ]
     },
     "execution_count": 10,
     "metadata": {},
     "output_type": "execute_result"
    }
   ],
   "source": [
    "updated_text.find(\"_\")"
   ]
  },
  {
   "cell_type": "markdown",
   "id": "d29e2d59-1439-4583-b175-a3b50dfd94ef",
   "metadata": {},
   "source": [
    "## Question#6"
   ]
  },
  {
   "cell_type": "code",
   "execution_count": 11,
   "id": "ae121f8a-8df2-478d-8d9d-7f2be1d417d0",
   "metadata": {},
   "outputs": [
    {
     "name": "stdin",
     "output_type": "stream",
     "text": [
      "write your address pechs block 2 karachi.\n"
     ]
    },
    {
     "data": {
      "text/plain": [
       "'pechs block 2 kara'"
      ]
     },
     "execution_count": 11,
     "metadata": {},
     "output_type": "execute_result"
    }
   ],
   "source": [
    "x=input(\"write your address\")\n",
    "x[:-4]"
   ]
  },
  {
   "cell_type": "code",
   "execution_count": 12,
   "id": "de495bc8-e5fc-4223-9c86-fce0cd11236d",
   "metadata": {},
   "outputs": [
    {
     "data": {
      "text/plain": [
       "'pcsbok2krci'"
      ]
     },
     "execution_count": 12,
     "metadata": {},
     "output_type": "execute_result"
    }
   ],
   "source": [
    "x[::2]"
   ]
  },
  {
   "cell_type": "code",
   "execution_count": 13,
   "id": "3179a16c-0650-41e1-830b-754d650fbe92",
   "metadata": {},
   "outputs": [
    {
     "data": {
      "text/plain": [
       "'.ihcarak 2 kcolb shcep'"
      ]
     },
     "execution_count": 13,
     "metadata": {},
     "output_type": "execute_result"
    }
   ],
   "source": [
    "x[::-1]"
   ]
  },
  {
   "cell_type": "markdown",
   "id": "512d5cb6-0d12-4996-870f-1e898ca16395",
   "metadata": {},
   "source": [
    "## Question#7"
   ]
  },
  {
   "cell_type": "code",
   "execution_count": 14,
   "id": "1bac4aaf-f147-4755-8b04-024d43089c74",
   "metadata": {},
   "outputs": [
    {
     "data": {
      "text/plain": [
       "'nohtyP gninrael era eW ,dlroW olleH'"
      ]
     },
     "execution_count": 14,
     "metadata": {},
     "output_type": "execute_result"
    }
   ],
   "source": [
    "a=\"Hello World, We are learning Python\"\n",
    "a[::-1]"
   ]
  },
  {
   "cell_type": "markdown",
   "id": "c57065b0-9ad2-4e97-883c-c92c178742a9",
   "metadata": {},
   "source": [
    "## Questtion#8"
   ]
  },
  {
   "cell_type": "code",
   "execution_count": 15,
   "id": "59c18a99-1b7f-40fc-888b-6925923bd862",
   "metadata": {},
   "outputs": [
    {
     "name": "stdout",
     "output_type": "stream",
     "text": [
      "12345\n"
     ]
    }
   ],
   "source": [
    "Product_code=\"SKU-12345-XYZ\"\n",
    "Product_code=Product_code.removeprefix(\"SKU-\")\n",
    "\n",
    "Product_code=Product_code.removesuffix(\"-XYZ\")\n",
    "print(Product_code)\n"
   ]
  },
  {
   "cell_type": "markdown",
   "id": "6581e468-5852-4d7b-b30a-5966c9c79b9c",
   "metadata": {},
   "source": [
    "## Question#9"
   ]
  },
  {
   "cell_type": "code",
   "execution_count": 18,
   "id": "6593441c-db0d-42d2-b441-9b82dbb82f8d",
   "metadata": {},
   "outputs": [
    {
     "name": "stdin",
     "output_type": "stream",
     "text": [
      "Enter your password: 09876543qwerty\n"
     ]
    },
    {
     "name": "stdout",
     "output_type": "stream",
     "text": [
      "Password should have at least one uppercase character.\n"
     ]
    }
   ],
   "source": [
    "password = input(\"Enter your password:\")\n",
    "\n",
    "if not any(char.isupper() for char in password):\n",
    "    print(\"Password should have at least one uppercase character.\")\n",
    "elif not any(char.islower() for char in password):\n",
    "    print(\"Password should have at least one lowercase character.\")\n",
    "elif not any(char.isspace() for char in password):\n",
    "    print(\"Password should have at least one space.\")\n",
    "elif not any((not char.isalnum() and not char.isspace()) for char in password):\n",
    "    print(\"Password should have at least one special character.\")\n",
    "else:\n",
    "    print(\"Valid password!\")"
   ]
  },
  {
   "cell_type": "markdown",
   "id": "f9eb3418-bc40-44a4-87b3-59599b8f0979",
   "metadata": {},
   "source": [
    "## Question#10"
   ]
  },
  {
   "cell_type": "code",
   "execution_count": 17,
   "id": "a42bbc5d-4c2b-4248-830c-c5f2f044e1f3",
   "metadata": {},
   "outputs": [
    {
     "name": "stdin",
     "output_type": "stream",
     "text": [
      "Enter the text:  I love programming\n"
     ]
    },
    {
     "name": "stdout",
     "output_type": "stream",
     "text": [
      "longest word:programming\n"
     ]
    }
   ],
   "source": [
    "text = input(\"Enter the text: \")\n",
    "words=text.split()\n",
    "words.sort(key=len, reverse=True)\n",
    "longest_word = words[0]\n",
    "print(\"longest word:\"+  longest_word)"
   ]
  },
  {
   "cell_type": "code",
   "execution_count": null,
   "id": "880b5371-3207-40f7-8905-27fd96704804",
   "metadata": {},
   "outputs": [],
   "source": []
  }
 ],
 "metadata": {
  "kernelspec": {
   "display_name": "Python 3 (ipykernel)",
   "language": "python",
   "name": "python3"
  },
  "language_info": {
   "codemirror_mode": {
    "name": "ipython",
    "version": 3
   },
   "file_extension": ".py",
   "mimetype": "text/x-python",
   "name": "python",
   "nbconvert_exporter": "python",
   "pygments_lexer": "ipython3",
   "version": "3.12.7"
  }
 },
 "nbformat": 4,
 "nbformat_minor": 5
}
